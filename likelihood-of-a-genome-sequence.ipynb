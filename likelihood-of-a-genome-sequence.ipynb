{
 "cells": [
  {
   "cell_type": "markdown",
   "id": "fb964463",
   "metadata": {
    "papermill": {
     "duration": 0.048789,
     "end_time": "2022-05-10T11:48:27.646397",
     "exception": false,
     "start_time": "2022-05-10T11:48:27.597608",
     "status": "completed"
    },
    "tags": []
   },
   "source": [
    "<h1 style=\"color:#2c3f51\">Predict the likelihood of a genome sequence undergoing mutation.</h1>"
   ]
  },
  {
   "cell_type": "code",
   "execution_count": 1,
   "id": "3a47a55c",
   "metadata": {
    "_cell_guid": "b1076dfc-b9ad-4769-8c92-a6c4dae69d19",
    "_uuid": "8f2839f25d086af736a60e9eeb907d3b93b6e0e5",
    "execution": {
     "iopub.execute_input": "2022-05-10T11:48:27.746484Z",
     "iopub.status.busy": "2022-05-10T11:48:27.746187Z",
     "iopub.status.idle": "2022-05-10T11:48:29.426006Z",
     "shell.execute_reply": "2022-05-10T11:48:29.425224Z"
    },
    "papermill": {
     "duration": 1.732682,
     "end_time": "2022-05-10T11:48:29.428389",
     "exception": false,
     "start_time": "2022-05-10T11:48:27.695707",
     "status": "completed"
    },
    "tags": []
   },
   "outputs": [],
   "source": [
    "import numpy as np # linear algebra\n",
    "import pandas as pd # data processing, CSV file I/O (e.g. pd.read_csv)\n",
    "\n",
    "import optuna\n",
    "\n",
    "# Metrics\n",
    "from sklearn.metrics import accuracy_score\n",
    "\n",
    "import warnings\n",
    "warnings.filterwarnings('ignore')"
   ]
  },
  {
   "cell_type": "markdown",
   "id": "0a509687",
   "metadata": {
    "papermill": {
     "duration": 0.046469,
     "end_time": "2022-05-10T11:48:29.522308",
     "exception": false,
     "start_time": "2022-05-10T11:48:29.475839",
     "status": "completed"
    },
    "tags": []
   },
   "source": [
    "# Loading Data"
   ]
  },
  {
   "cell_type": "code",
   "execution_count": 2,
   "id": "48e661dd",
   "metadata": {
    "execution": {
     "iopub.execute_input": "2022-05-10T11:48:29.620740Z",
     "iopub.status.busy": "2022-05-10T11:48:29.620012Z",
     "iopub.status.idle": "2022-05-10T11:48:32.118792Z",
     "shell.execute_reply": "2022-05-10T11:48:32.117990Z"
    },
    "papermill": {
     "duration": 2.549318,
     "end_time": "2022-05-10T11:48:32.120941",
     "exception": false,
     "start_time": "2022-05-10T11:48:29.571623",
     "status": "completed"
    },
    "tags": []
   },
   "outputs": [
    {
     "name": "stdout",
     "output_type": "stream",
     "text": [
      "Data Dimension\n",
      "\n"
     ]
    },
    {
     "data": {
      "text/plain": [
       "((180000, 32), (120000, 31))"
      ]
     },
     "execution_count": 2,
     "metadata": {},
     "output_type": "execute_result"
    }
   ],
   "source": [
    "train = pd.read_csv('../input/devday22-competition-datascience/train.csv')\n",
    "test = pd.read_csv('../input/devday22-competition-datascience/test.csv')\n",
    "\n",
    "print('Data Dimension\\n')\n",
    "train.shape, test.shape"
   ]
  },
  {
   "cell_type": "markdown",
   "id": "535e31e9",
   "metadata": {
    "papermill": {
     "duration": 0.047789,
     "end_time": "2022-05-10T11:48:32.217526",
     "exception": false,
     "start_time": "2022-05-10T11:48:32.169737",
     "status": "completed"
    },
    "tags": []
   },
   "source": [
    "# Understanding Data"
   ]
  },
  {
   "cell_type": "markdown",
   "id": "1cc7a3a2",
   "metadata": {
    "papermill": {
     "duration": 0.049388,
     "end_time": "2022-05-10T11:48:32.315147",
     "exception": false,
     "start_time": "2022-05-10T11:48:32.265759",
     "status": "completed"
    },
    "tags": []
   },
   "source": [
    "- Data describe"
   ]
  },
  {
   "cell_type": "code",
   "execution_count": 3,
   "id": "1c96ef40",
   "metadata": {
    "execution": {
     "iopub.execute_input": "2022-05-10T11:48:32.412914Z",
     "iopub.status.busy": "2022-05-10T11:48:32.412714Z",
     "iopub.status.idle": "2022-05-10T11:48:32.611206Z",
     "shell.execute_reply": "2022-05-10T11:48:32.610546Z"
    },
    "papermill": {
     "duration": 0.249081,
     "end_time": "2022-05-10T11:48:32.613078",
     "exception": false,
     "start_time": "2022-05-10T11:48:32.363997",
     "status": "completed"
    },
    "tags": []
   },
   "outputs": [
    {
     "data": {
      "text/html": [
       "<div>\n",
       "<style scoped>\n",
       "    .dataframe tbody tr th:only-of-type {\n",
       "        vertical-align: middle;\n",
       "    }\n",
       "\n",
       "    .dataframe tbody tr th {\n",
       "        vertical-align: top;\n",
       "    }\n",
       "\n",
       "    .dataframe thead th {\n",
       "        text-align: right;\n",
       "    }\n",
       "</style>\n",
       "<table border=\"1\" class=\"dataframe\">\n",
       "  <thead>\n",
       "    <tr style=\"text-align: right;\">\n",
       "      <th></th>\n",
       "      <th>ID</th>\n",
       "      <th>A</th>\n",
       "      <th>B</th>\n",
       "      <th>C</th>\n",
       "      <th>D</th>\n",
       "      <th>E</th>\n",
       "      <th>F</th>\n",
       "      <th>G</th>\n",
       "      <th>H</th>\n",
       "      <th>I</th>\n",
       "      <th>...</th>\n",
       "      <th>M</th>\n",
       "      <th>N</th>\n",
       "      <th>O</th>\n",
       "      <th>P</th>\n",
       "      <th>Q</th>\n",
       "      <th>R</th>\n",
       "      <th>S</th>\n",
       "      <th>T</th>\n",
       "      <th>U</th>\n",
       "      <th>mutation</th>\n",
       "    </tr>\n",
       "  </thead>\n",
       "  <tbody>\n",
       "    <tr>\n",
       "      <th>count</th>\n",
       "      <td>180000.000000</td>\n",
       "      <td>180000.000000</td>\n",
       "      <td>180000.000000</td>\n",
       "      <td>180000.000000</td>\n",
       "      <td>180000.000000</td>\n",
       "      <td>180000.000000</td>\n",
       "      <td>180000.000000</td>\n",
       "      <td>180000.000000</td>\n",
       "      <td>180000.000000</td>\n",
       "      <td>180000.000000</td>\n",
       "      <td>...</td>\n",
       "      <td>180000.000000</td>\n",
       "      <td>180000.000000</td>\n",
       "      <td>180000.000000</td>\n",
       "      <td>180000.000000</td>\n",
       "      <td>180000.000000</td>\n",
       "      <td>180000.000000</td>\n",
       "      <td>180000.000000</td>\n",
       "      <td>180000.000000</td>\n",
       "      <td>180000.000000</td>\n",
       "      <td>180000.000000</td>\n",
       "    </tr>\n",
       "    <tr>\n",
       "      <th>mean</th>\n",
       "      <td>150259.572350</td>\n",
       "      <td>8.118989</td>\n",
       "      <td>2.632989</td>\n",
       "      <td>0.617833</td>\n",
       "      <td>4.802733</td>\n",
       "      <td>29.696178</td>\n",
       "      <td>1.262467</td>\n",
       "      <td>23.543444</td>\n",
       "      <td>33.423717</td>\n",
       "      <td>1.605150</td>\n",
       "      <td>...</td>\n",
       "      <td>0.516286</td>\n",
       "      <td>0.474217</td>\n",
       "      <td>0.505086</td>\n",
       "      <td>0.501836</td>\n",
       "      <td>0.487837</td>\n",
       "      <td>0.501700</td>\n",
       "      <td>0.487640</td>\n",
       "      <td>0.469766</td>\n",
       "      <td>0.507951</td>\n",
       "      <td>0.264900</td>\n",
       "    </tr>\n",
       "    <tr>\n",
       "      <th>std</th>\n",
       "      <td>86591.625009</td>\n",
       "      <td>3.078097</td>\n",
       "      <td>4.147355</td>\n",
       "      <td>1.191218</td>\n",
       "      <td>1.514448</td>\n",
       "      <td>12.700896</td>\n",
       "      <td>2.109440</td>\n",
       "      <td>13.897618</td>\n",
       "      <td>18.991241</td>\n",
       "      <td>2.752459</td>\n",
       "      <td>...</td>\n",
       "      <td>0.214696</td>\n",
       "      <td>0.216486</td>\n",
       "      <td>0.227391</td>\n",
       "      <td>0.241277</td>\n",
       "      <td>0.211201</td>\n",
       "      <td>0.203394</td>\n",
       "      <td>0.178990</td>\n",
       "      <td>0.194466</td>\n",
       "      <td>0.203378</td>\n",
       "      <td>0.441281</td>\n",
       "    </tr>\n",
       "    <tr>\n",
       "      <th>min</th>\n",
       "      <td>0.000000</td>\n",
       "      <td>0.000000</td>\n",
       "      <td>0.000000</td>\n",
       "      <td>0.000000</td>\n",
       "      <td>0.000000</td>\n",
       "      <td>0.000000</td>\n",
       "      <td>0.000000</td>\n",
       "      <td>0.000000</td>\n",
       "      <td>0.000000</td>\n",
       "      <td>0.000000</td>\n",
       "      <td>...</td>\n",
       "      <td>0.099276</td>\n",
       "      <td>-0.045316</td>\n",
       "      <td>0.169495</td>\n",
       "      <td>-0.033695</td>\n",
       "      <td>0.005199</td>\n",
       "      <td>0.093056</td>\n",
       "      <td>0.024139</td>\n",
       "      <td>0.215575</td>\n",
       "      <td>0.097789</td>\n",
       "      <td>0.000000</td>\n",
       "    </tr>\n",
       "    <tr>\n",
       "      <th>25%</th>\n",
       "      <td>75313.750000</td>\n",
       "      <td>7.000000</td>\n",
       "      <td>0.000000</td>\n",
       "      <td>0.000000</td>\n",
       "      <td>4.000000</td>\n",
       "      <td>33.000000</td>\n",
       "      <td>0.000000</td>\n",
       "      <td>9.000000</td>\n",
       "      <td>19.000000</td>\n",
       "      <td>0.000000</td>\n",
       "      <td>...</td>\n",
       "      <td>0.325804</td>\n",
       "      <td>0.291995</td>\n",
       "      <td>0.279693</td>\n",
       "      <td>0.276133</td>\n",
       "      <td>0.323797</td>\n",
       "      <td>0.353174</td>\n",
       "      <td>0.358795</td>\n",
       "      <td>0.310106</td>\n",
       "      <td>0.367429</td>\n",
       "      <td>0.000000</td>\n",
       "    </tr>\n",
       "    <tr>\n",
       "      <th>50%</th>\n",
       "      <td>150321.000000</td>\n",
       "      <td>8.000000</td>\n",
       "      <td>0.000000</td>\n",
       "      <td>0.000000</td>\n",
       "      <td>4.000000</td>\n",
       "      <td>33.000000</td>\n",
       "      <td>0.000000</td>\n",
       "      <td>23.000000</td>\n",
       "      <td>38.000000</td>\n",
       "      <td>0.000000</td>\n",
       "      <td>...</td>\n",
       "      <td>0.471377</td>\n",
       "      <td>0.388573</td>\n",
       "      <td>0.480476</td>\n",
       "      <td>0.554751</td>\n",
       "      <td>0.517962</td>\n",
       "      <td>0.435187</td>\n",
       "      <td>0.410841</td>\n",
       "      <td>0.408567</td>\n",
       "      <td>0.446227</td>\n",
       "      <td>0.000000</td>\n",
       "    </tr>\n",
       "    <tr>\n",
       "      <th>75%</th>\n",
       "      <td>225293.250000</td>\n",
       "      <td>10.000000</td>\n",
       "      <td>3.000000</td>\n",
       "      <td>1.000000</td>\n",
       "      <td>5.000000</td>\n",
       "      <td>33.000000</td>\n",
       "      <td>2.000000</td>\n",
       "      <td>35.000000</td>\n",
       "      <td>49.000000</td>\n",
       "      <td>2.000000</td>\n",
       "      <td>...</td>\n",
       "      <td>0.704146</td>\n",
       "      <td>0.645087</td>\n",
       "      <td>0.725755</td>\n",
       "      <td>0.735208</td>\n",
       "      <td>0.607613</td>\n",
       "      <td>0.642035</td>\n",
       "      <td>0.611452</td>\n",
       "      <td>0.587050</td>\n",
       "      <td>0.581691</td>\n",
       "      <td>1.000000</td>\n",
       "    </tr>\n",
       "    <tr>\n",
       "      <th>max</th>\n",
       "      <td>299999.000000</td>\n",
       "      <td>14.000000</td>\n",
       "      <td>18.000000</td>\n",
       "      <td>12.000000</td>\n",
       "      <td>19.000000</td>\n",
       "      <td>83.000000</td>\n",
       "      <td>15.000000</td>\n",
       "      <td>50.000000</td>\n",
       "      <td>60.000000</td>\n",
       "      <td>18.000000</td>\n",
       "      <td>...</td>\n",
       "      <td>1.016600</td>\n",
       "      <td>0.951018</td>\n",
       "      <td>0.856975</td>\n",
       "      <td>0.853022</td>\n",
       "      <td>0.960912</td>\n",
       "      <td>1.035818</td>\n",
       "      <td>1.054257</td>\n",
       "      <td>1.005652</td>\n",
       "      <td>1.011331</td>\n",
       "      <td>1.000000</td>\n",
       "    </tr>\n",
       "  </tbody>\n",
       "</table>\n",
       "<p>8 rows × 23 columns</p>\n",
       "</div>"
      ],
      "text/plain": [
       "                  ID              A              B              C  \\\n",
       "count  180000.000000  180000.000000  180000.000000  180000.000000   \n",
       "mean   150259.572350       8.118989       2.632989       0.617833   \n",
       "std     86591.625009       3.078097       4.147355       1.191218   \n",
       "min         0.000000       0.000000       0.000000       0.000000   \n",
       "25%     75313.750000       7.000000       0.000000       0.000000   \n",
       "50%    150321.000000       8.000000       0.000000       0.000000   \n",
       "75%    225293.250000      10.000000       3.000000       1.000000   \n",
       "max    299999.000000      14.000000      18.000000      12.000000   \n",
       "\n",
       "                   D              E              F              G  \\\n",
       "count  180000.000000  180000.000000  180000.000000  180000.000000   \n",
       "mean        4.802733      29.696178       1.262467      23.543444   \n",
       "std         1.514448      12.700896       2.109440      13.897618   \n",
       "min         0.000000       0.000000       0.000000       0.000000   \n",
       "25%         4.000000      33.000000       0.000000       9.000000   \n",
       "50%         4.000000      33.000000       0.000000      23.000000   \n",
       "75%         5.000000      33.000000       2.000000      35.000000   \n",
       "max        19.000000      83.000000      15.000000      50.000000   \n",
       "\n",
       "                   H              I  ...              M              N  \\\n",
       "count  180000.000000  180000.000000  ...  180000.000000  180000.000000   \n",
       "mean       33.423717       1.605150  ...       0.516286       0.474217   \n",
       "std        18.991241       2.752459  ...       0.214696       0.216486   \n",
       "min         0.000000       0.000000  ...       0.099276      -0.045316   \n",
       "25%        19.000000       0.000000  ...       0.325804       0.291995   \n",
       "50%        38.000000       0.000000  ...       0.471377       0.388573   \n",
       "75%        49.000000       2.000000  ...       0.704146       0.645087   \n",
       "max        60.000000      18.000000  ...       1.016600       0.951018   \n",
       "\n",
       "                   O              P              Q              R  \\\n",
       "count  180000.000000  180000.000000  180000.000000  180000.000000   \n",
       "mean        0.505086       0.501836       0.487837       0.501700   \n",
       "std         0.227391       0.241277       0.211201       0.203394   \n",
       "min         0.169495      -0.033695       0.005199       0.093056   \n",
       "25%         0.279693       0.276133       0.323797       0.353174   \n",
       "50%         0.480476       0.554751       0.517962       0.435187   \n",
       "75%         0.725755       0.735208       0.607613       0.642035   \n",
       "max         0.856975       0.853022       0.960912       1.035818   \n",
       "\n",
       "                   S              T              U       mutation  \n",
       "count  180000.000000  180000.000000  180000.000000  180000.000000  \n",
       "mean        0.487640       0.469766       0.507951       0.264900  \n",
       "std         0.178990       0.194466       0.203378       0.441281  \n",
       "min         0.024139       0.215575       0.097789       0.000000  \n",
       "25%         0.358795       0.310106       0.367429       0.000000  \n",
       "50%         0.410841       0.408567       0.446227       0.000000  \n",
       "75%         0.611452       0.587050       0.581691       1.000000  \n",
       "max         1.054257       1.005652       1.011331       1.000000  \n",
       "\n",
       "[8 rows x 23 columns]"
      ]
     },
     "execution_count": 3,
     "metadata": {},
     "output_type": "execute_result"
    }
   ],
   "source": [
    "train.describe()"
   ]
  },
  {
   "cell_type": "code",
   "execution_count": 4,
   "id": "50ebc16f",
   "metadata": {
    "execution": {
     "iopub.execute_input": "2022-05-10T11:48:32.713616Z",
     "iopub.status.busy": "2022-05-10T11:48:32.713328Z",
     "iopub.status.idle": "2022-05-10T11:48:32.832126Z",
     "shell.execute_reply": "2022-05-10T11:48:32.831580Z"
    },
    "papermill": {
     "duration": 0.17172,
     "end_time": "2022-05-10T11:48:32.834176",
     "exception": false,
     "start_time": "2022-05-10T11:48:32.662456",
     "status": "completed"
    },
    "tags": []
   },
   "outputs": [
    {
     "data": {
      "text/html": [
       "<div>\n",
       "<style scoped>\n",
       "    .dataframe tbody tr th:only-of-type {\n",
       "        vertical-align: middle;\n",
       "    }\n",
       "\n",
       "    .dataframe tbody tr th {\n",
       "        vertical-align: top;\n",
       "    }\n",
       "\n",
       "    .dataframe thead th {\n",
       "        text-align: right;\n",
       "    }\n",
       "</style>\n",
       "<table border=\"1\" class=\"dataframe\">\n",
       "  <thead>\n",
       "    <tr style=\"text-align: right;\">\n",
       "      <th></th>\n",
       "      <th>ID</th>\n",
       "      <th>A</th>\n",
       "      <th>B</th>\n",
       "      <th>C</th>\n",
       "      <th>D</th>\n",
       "      <th>E</th>\n",
       "      <th>F</th>\n",
       "      <th>G</th>\n",
       "      <th>H</th>\n",
       "      <th>I</th>\n",
       "      <th>...</th>\n",
       "      <th>L</th>\n",
       "      <th>M</th>\n",
       "      <th>N</th>\n",
       "      <th>O</th>\n",
       "      <th>P</th>\n",
       "      <th>Q</th>\n",
       "      <th>R</th>\n",
       "      <th>S</th>\n",
       "      <th>T</th>\n",
       "      <th>U</th>\n",
       "    </tr>\n",
       "  </thead>\n",
       "  <tbody>\n",
       "    <tr>\n",
       "      <th>count</th>\n",
       "      <td>120000.000000</td>\n",
       "      <td>120000.000000</td>\n",
       "      <td>120000.000000</td>\n",
       "      <td>120000.000000</td>\n",
       "      <td>120000.000000</td>\n",
       "      <td>120000.000000</td>\n",
       "      <td>120000.000000</td>\n",
       "      <td>120000.000000</td>\n",
       "      <td>120000.000000</td>\n",
       "      <td>120000.000000</td>\n",
       "      <td>...</td>\n",
       "      <td>120000.000000</td>\n",
       "      <td>120000.000000</td>\n",
       "      <td>120000.000000</td>\n",
       "      <td>120000.000000</td>\n",
       "      <td>120000.000000</td>\n",
       "      <td>120000.000000</td>\n",
       "      <td>120000.000000</td>\n",
       "      <td>120000.000000</td>\n",
       "      <td>120000.000000</td>\n",
       "      <td>120000.000000</td>\n",
       "    </tr>\n",
       "    <tr>\n",
       "      <th>mean</th>\n",
       "      <td>149609.391475</td>\n",
       "      <td>8.127517</td>\n",
       "      <td>2.616475</td>\n",
       "      <td>0.612867</td>\n",
       "      <td>4.811917</td>\n",
       "      <td>29.675250</td>\n",
       "      <td>1.261375</td>\n",
       "      <td>23.459275</td>\n",
       "      <td>33.394692</td>\n",
       "      <td>1.607508</td>\n",
       "      <td>...</td>\n",
       "      <td>0.494413</td>\n",
       "      <td>0.517149</td>\n",
       "      <td>0.474261</td>\n",
       "      <td>0.504490</td>\n",
       "      <td>0.502889</td>\n",
       "      <td>0.488817</td>\n",
       "      <td>0.501796</td>\n",
       "      <td>0.488725</td>\n",
       "      <td>0.469092</td>\n",
       "      <td>0.508648</td>\n",
       "    </tr>\n",
       "    <tr>\n",
       "      <th>std</th>\n",
       "      <td>86618.168318</td>\n",
       "      <td>3.060814</td>\n",
       "      <td>4.119720</td>\n",
       "      <td>1.173331</td>\n",
       "      <td>1.520519</td>\n",
       "      <td>12.679975</td>\n",
       "      <td>2.123597</td>\n",
       "      <td>13.852400</td>\n",
       "      <td>19.019033</td>\n",
       "      <td>2.770016</td>\n",
       "      <td>...</td>\n",
       "      <td>0.213312</td>\n",
       "      <td>0.215083</td>\n",
       "      <td>0.216861</td>\n",
       "      <td>0.227599</td>\n",
       "      <td>0.241192</td>\n",
       "      <td>0.211534</td>\n",
       "      <td>0.203650</td>\n",
       "      <td>0.179134</td>\n",
       "      <td>0.194591</td>\n",
       "      <td>0.203416</td>\n",
       "    </tr>\n",
       "    <tr>\n",
       "      <th>min</th>\n",
       "      <td>1.000000</td>\n",
       "      <td>0.000000</td>\n",
       "      <td>0.000000</td>\n",
       "      <td>0.000000</td>\n",
       "      <td>0.000000</td>\n",
       "      <td>0.000000</td>\n",
       "      <td>0.000000</td>\n",
       "      <td>0.000000</td>\n",
       "      <td>0.000000</td>\n",
       "      <td>0.000000</td>\n",
       "      <td>...</td>\n",
       "      <td>0.084480</td>\n",
       "      <td>0.094493</td>\n",
       "      <td>-0.031298</td>\n",
       "      <td>0.168071</td>\n",
       "      <td>-0.036379</td>\n",
       "      <td>0.018907</td>\n",
       "      <td>0.090901</td>\n",
       "      <td>0.045832</td>\n",
       "      <td>0.214866</td>\n",
       "      <td>0.126711</td>\n",
       "    </tr>\n",
       "    <tr>\n",
       "      <th>25%</th>\n",
       "      <td>74540.750000</td>\n",
       "      <td>7.000000</td>\n",
       "      <td>0.000000</td>\n",
       "      <td>0.000000</td>\n",
       "      <td>4.000000</td>\n",
       "      <td>33.000000</td>\n",
       "      <td>0.000000</td>\n",
       "      <td>9.000000</td>\n",
       "      <td>19.000000</td>\n",
       "      <td>0.000000</td>\n",
       "      <td>...</td>\n",
       "      <td>0.317640</td>\n",
       "      <td>0.326394</td>\n",
       "      <td>0.292660</td>\n",
       "      <td>0.278682</td>\n",
       "      <td>0.276907</td>\n",
       "      <td>0.324116</td>\n",
       "      <td>0.352900</td>\n",
       "      <td>0.359112</td>\n",
       "      <td>0.309691</td>\n",
       "      <td>0.369417</td>\n",
       "    </tr>\n",
       "    <tr>\n",
       "      <th>50%</th>\n",
       "      <td>149557.500000</td>\n",
       "      <td>8.000000</td>\n",
       "      <td>0.000000</td>\n",
       "      <td>0.000000</td>\n",
       "      <td>4.000000</td>\n",
       "      <td>33.000000</td>\n",
       "      <td>0.000000</td>\n",
       "      <td>23.000000</td>\n",
       "      <td>38.000000</td>\n",
       "      <td>0.000000</td>\n",
       "      <td>...</td>\n",
       "      <td>0.462719</td>\n",
       "      <td>0.471137</td>\n",
       "      <td>0.385824</td>\n",
       "      <td>0.479183</td>\n",
       "      <td>0.554798</td>\n",
       "      <td>0.518270</td>\n",
       "      <td>0.435730</td>\n",
       "      <td>0.411012</td>\n",
       "      <td>0.405421</td>\n",
       "      <td>0.447079</td>\n",
       "    </tr>\n",
       "    <tr>\n",
       "      <th>75%</th>\n",
       "      <td>224504.250000</td>\n",
       "      <td>10.000000</td>\n",
       "      <td>3.000000</td>\n",
       "      <td>1.000000</td>\n",
       "      <td>5.000000</td>\n",
       "      <td>33.000000</td>\n",
       "      <td>2.000000</td>\n",
       "      <td>35.000000</td>\n",
       "      <td>49.000000</td>\n",
       "      <td>2.000000</td>\n",
       "      <td>...</td>\n",
       "      <td>0.695031</td>\n",
       "      <td>0.705315</td>\n",
       "      <td>0.644702</td>\n",
       "      <td>0.725804</td>\n",
       "      <td>0.735256</td>\n",
       "      <td>0.609925</td>\n",
       "      <td>0.641976</td>\n",
       "      <td>0.614888</td>\n",
       "      <td>0.586463</td>\n",
       "      <td>0.582367</td>\n",
       "    </tr>\n",
       "    <tr>\n",
       "      <th>max</th>\n",
       "      <td>299992.000000</td>\n",
       "      <td>14.000000</td>\n",
       "      <td>18.000000</td>\n",
       "      <td>12.000000</td>\n",
       "      <td>19.000000</td>\n",
       "      <td>83.000000</td>\n",
       "      <td>15.000000</td>\n",
       "      <td>50.000000</td>\n",
       "      <td>60.000000</td>\n",
       "      <td>18.000000</td>\n",
       "      <td>...</td>\n",
       "      <td>1.005793</td>\n",
       "      <td>1.005743</td>\n",
       "      <td>0.952187</td>\n",
       "      <td>0.858578</td>\n",
       "      <td>0.846413</td>\n",
       "      <td>0.966553</td>\n",
       "      <td>1.027458</td>\n",
       "      <td>1.055885</td>\n",
       "      <td>1.005392</td>\n",
       "      <td>1.006479</td>\n",
       "    </tr>\n",
       "  </tbody>\n",
       "</table>\n",
       "<p>8 rows × 22 columns</p>\n",
       "</div>"
      ],
      "text/plain": [
       "                  ID              A              B              C  \\\n",
       "count  120000.000000  120000.000000  120000.000000  120000.000000   \n",
       "mean   149609.391475       8.127517       2.616475       0.612867   \n",
       "std     86618.168318       3.060814       4.119720       1.173331   \n",
       "min         1.000000       0.000000       0.000000       0.000000   \n",
       "25%     74540.750000       7.000000       0.000000       0.000000   \n",
       "50%    149557.500000       8.000000       0.000000       0.000000   \n",
       "75%    224504.250000      10.000000       3.000000       1.000000   \n",
       "max    299992.000000      14.000000      18.000000      12.000000   \n",
       "\n",
       "                   D              E              F              G  \\\n",
       "count  120000.000000  120000.000000  120000.000000  120000.000000   \n",
       "mean        4.811917      29.675250       1.261375      23.459275   \n",
       "std         1.520519      12.679975       2.123597      13.852400   \n",
       "min         0.000000       0.000000       0.000000       0.000000   \n",
       "25%         4.000000      33.000000       0.000000       9.000000   \n",
       "50%         4.000000      33.000000       0.000000      23.000000   \n",
       "75%         5.000000      33.000000       2.000000      35.000000   \n",
       "max        19.000000      83.000000      15.000000      50.000000   \n",
       "\n",
       "                   H              I  ...              L              M  \\\n",
       "count  120000.000000  120000.000000  ...  120000.000000  120000.000000   \n",
       "mean       33.394692       1.607508  ...       0.494413       0.517149   \n",
       "std        19.019033       2.770016  ...       0.213312       0.215083   \n",
       "min         0.000000       0.000000  ...       0.084480       0.094493   \n",
       "25%        19.000000       0.000000  ...       0.317640       0.326394   \n",
       "50%        38.000000       0.000000  ...       0.462719       0.471137   \n",
       "75%        49.000000       2.000000  ...       0.695031       0.705315   \n",
       "max        60.000000      18.000000  ...       1.005793       1.005743   \n",
       "\n",
       "                   N              O              P              Q  \\\n",
       "count  120000.000000  120000.000000  120000.000000  120000.000000   \n",
       "mean        0.474261       0.504490       0.502889       0.488817   \n",
       "std         0.216861       0.227599       0.241192       0.211534   \n",
       "min        -0.031298       0.168071      -0.036379       0.018907   \n",
       "25%         0.292660       0.278682       0.276907       0.324116   \n",
       "50%         0.385824       0.479183       0.554798       0.518270   \n",
       "75%         0.644702       0.725804       0.735256       0.609925   \n",
       "max         0.952187       0.858578       0.846413       0.966553   \n",
       "\n",
       "                   R              S              T              U  \n",
       "count  120000.000000  120000.000000  120000.000000  120000.000000  \n",
       "mean        0.501796       0.488725       0.469092       0.508648  \n",
       "std         0.203650       0.179134       0.194591       0.203416  \n",
       "min         0.090901       0.045832       0.214866       0.126711  \n",
       "25%         0.352900       0.359112       0.309691       0.369417  \n",
       "50%         0.435730       0.411012       0.405421       0.447079  \n",
       "75%         0.641976       0.614888       0.586463       0.582367  \n",
       "max         1.027458       1.055885       1.005392       1.006479  \n",
       "\n",
       "[8 rows x 22 columns]"
      ]
     },
     "execution_count": 4,
     "metadata": {},
     "output_type": "execute_result"
    }
   ],
   "source": [
    "test.describe()"
   ]
  },
  {
   "cell_type": "markdown",
   "id": "7b086207",
   "metadata": {
    "papermill": {
     "duration": 0.048899,
     "end_time": "2022-05-10T11:48:32.932956",
     "exception": false,
     "start_time": "2022-05-10T11:48:32.884057",
     "status": "completed"
    },
    "tags": []
   },
   "source": [
    "- Data info"
   ]
  },
  {
   "cell_type": "code",
   "execution_count": 5,
   "id": "0ba5ee3d",
   "metadata": {
    "execution": {
     "iopub.execute_input": "2022-05-10T11:48:33.033166Z",
     "iopub.status.busy": "2022-05-10T11:48:33.032766Z",
     "iopub.status.idle": "2022-05-10T11:48:33.210832Z",
     "shell.execute_reply": "2022-05-10T11:48:33.210118Z"
    },
    "papermill": {
     "duration": 0.230853,
     "end_time": "2022-05-10T11:48:33.212971",
     "exception": false,
     "start_time": "2022-05-10T11:48:32.982118",
     "status": "completed"
    },
    "tags": []
   },
   "outputs": [
    {
     "name": "stdout",
     "output_type": "stream",
     "text": [
      "<class 'pandas.core.frame.DataFrame'>\n",
      "RangeIndex: 180000 entries, 0 to 179999\n",
      "Data columns (total 32 columns):\n",
      " #   Column     Non-Null Count   Dtype  \n",
      "---  ------     --------------   -----  \n",
      " 0   ID         180000 non-null  int64  \n",
      " 1   sequence1  180000 non-null  object \n",
      " 2   sequence2  180000 non-null  object \n",
      " 3   sequence3  180000 non-null  object \n",
      " 4   sequence4  180000 non-null  object \n",
      " 5   sequence5  180000 non-null  object \n",
      " 6   sequence6  180000 non-null  object \n",
      " 7   sequence7  180000 non-null  object \n",
      " 8   sequence8  180000 non-null  object \n",
      " 9   sequence9  180000 non-null  object \n",
      " 10  A          180000 non-null  int64  \n",
      " 11  B          180000 non-null  int64  \n",
      " 12  C          180000 non-null  int64  \n",
      " 13  D          180000 non-null  int64  \n",
      " 14  E          180000 non-null  int64  \n",
      " 15  F          180000 non-null  int64  \n",
      " 16  G          180000 non-null  int64  \n",
      " 17  H          180000 non-null  int64  \n",
      " 18  I          180000 non-null  int64  \n",
      " 19  J          180000 non-null  int64  \n",
      " 20  K          180000 non-null  float64\n",
      " 21  L          180000 non-null  float64\n",
      " 22  M          180000 non-null  float64\n",
      " 23  N          180000 non-null  float64\n",
      " 24  O          180000 non-null  float64\n",
      " 25  P          180000 non-null  float64\n",
      " 26  Q          180000 non-null  float64\n",
      " 27  R          180000 non-null  float64\n",
      " 28  S          180000 non-null  float64\n",
      " 29  T          180000 non-null  float64\n",
      " 30  U          180000 non-null  float64\n",
      " 31  mutation   180000 non-null  int64  \n",
      "dtypes: float64(11), int64(12), object(9)\n",
      "memory usage: 43.9+ MB\n"
     ]
    }
   ],
   "source": [
    "train.info()"
   ]
  },
  {
   "cell_type": "code",
   "execution_count": 6,
   "id": "86aeb4cd",
   "metadata": {
    "execution": {
     "iopub.execute_input": "2022-05-10T11:48:33.315594Z",
     "iopub.status.busy": "2022-05-10T11:48:33.315344Z",
     "iopub.status.idle": "2022-05-10T11:48:33.437086Z",
     "shell.execute_reply": "2022-05-10T11:48:33.436069Z"
    },
    "papermill": {
     "duration": 0.174518,
     "end_time": "2022-05-10T11:48:33.438974",
     "exception": false,
     "start_time": "2022-05-10T11:48:33.264456",
     "status": "completed"
    },
    "tags": []
   },
   "outputs": [
    {
     "name": "stdout",
     "output_type": "stream",
     "text": [
      "<class 'pandas.core.frame.DataFrame'>\n",
      "RangeIndex: 120000 entries, 0 to 119999\n",
      "Data columns (total 31 columns):\n",
      " #   Column     Non-Null Count   Dtype  \n",
      "---  ------     --------------   -----  \n",
      " 0   ID         120000 non-null  int64  \n",
      " 1   sequence1  120000 non-null  object \n",
      " 2   sequence2  120000 non-null  object \n",
      " 3   sequence3  120000 non-null  object \n",
      " 4   sequence4  120000 non-null  object \n",
      " 5   sequence5  120000 non-null  object \n",
      " 6   sequence6  120000 non-null  object \n",
      " 7   sequence7  120000 non-null  object \n",
      " 8   sequence8  120000 non-null  object \n",
      " 9   sequence9  120000 non-null  object \n",
      " 10  A          120000 non-null  int64  \n",
      " 11  B          120000 non-null  int64  \n",
      " 12  C          120000 non-null  int64  \n",
      " 13  D          120000 non-null  int64  \n",
      " 14  E          120000 non-null  int64  \n",
      " 15  F          120000 non-null  int64  \n",
      " 16  G          120000 non-null  int64  \n",
      " 17  H          120000 non-null  int64  \n",
      " 18  I          120000 non-null  int64  \n",
      " 19  J          120000 non-null  int64  \n",
      " 20  K          120000 non-null  float64\n",
      " 21  L          120000 non-null  float64\n",
      " 22  M          120000 non-null  float64\n",
      " 23  N          120000 non-null  float64\n",
      " 24  O          120000 non-null  float64\n",
      " 25  P          120000 non-null  float64\n",
      " 26  Q          120000 non-null  float64\n",
      " 27  R          120000 non-null  float64\n",
      " 28  S          120000 non-null  float64\n",
      " 29  T          120000 non-null  float64\n",
      " 30  U          120000 non-null  float64\n",
      "dtypes: float64(11), int64(11), object(9)\n",
      "memory usage: 28.4+ MB\n"
     ]
    }
   ],
   "source": [
    "test.info()"
   ]
  },
  {
   "cell_type": "markdown",
   "id": "49de81a9",
   "metadata": {
    "papermill": {
     "duration": 0.032612,
     "end_time": "2022-05-10T11:48:33.505034",
     "exception": false,
     "start_time": "2022-05-10T11:48:33.472422",
     "status": "completed"
    },
    "tags": []
   },
   "source": [
    "- Check missing values"
   ]
  },
  {
   "cell_type": "code",
   "execution_count": 7,
   "id": "aa3c138e",
   "metadata": {
    "execution": {
     "iopub.execute_input": "2022-05-10T11:48:33.572493Z",
     "iopub.status.busy": "2022-05-10T11:48:33.571669Z",
     "iopub.status.idle": "2022-05-10T11:48:33.745249Z",
     "shell.execute_reply": "2022-05-10T11:48:33.744315Z"
    },
    "papermill": {
     "duration": 0.209375,
     "end_time": "2022-05-10T11:48:33.746968",
     "exception": false,
     "start_time": "2022-05-10T11:48:33.537593",
     "status": "completed"
    },
    "tags": []
   },
   "outputs": [
    {
     "data": {
      "text/plain": [
       "False"
      ]
     },
     "execution_count": 7,
     "metadata": {},
     "output_type": "execute_result"
    }
   ],
   "source": [
    "train.isnull().sum().any()"
   ]
  },
  {
   "cell_type": "code",
   "execution_count": 8,
   "id": "150daeb4",
   "metadata": {
    "execution": {
     "iopub.execute_input": "2022-05-10T11:48:33.816206Z",
     "iopub.status.busy": "2022-05-10T11:48:33.815505Z",
     "iopub.status.idle": "2022-05-10T11:48:33.930752Z",
     "shell.execute_reply": "2022-05-10T11:48:33.929954Z"
    },
    "papermill": {
     "duration": 0.152599,
     "end_time": "2022-05-10T11:48:33.933464",
     "exception": false,
     "start_time": "2022-05-10T11:48:33.780865",
     "status": "completed"
    },
    "tags": []
   },
   "outputs": [
    {
     "data": {
      "text/plain": [
       "False"
      ]
     },
     "execution_count": 8,
     "metadata": {},
     "output_type": "execute_result"
    }
   ],
   "source": [
    "test.isnull().sum().any()"
   ]
  },
  {
   "cell_type": "markdown",
   "id": "c8f4e459",
   "metadata": {
    "papermill": {
     "duration": 0.051907,
     "end_time": "2022-05-10T11:48:34.037943",
     "exception": false,
     "start_time": "2022-05-10T11:48:33.986036",
     "status": "completed"
    },
    "tags": []
   },
   "source": [
    "- Feature correlation"
   ]
  },
  {
   "cell_type": "code",
   "execution_count": 9,
   "id": "3fc5180b",
   "metadata": {
    "execution": {
     "iopub.execute_input": "2022-05-10T11:48:34.144283Z",
     "iopub.status.busy": "2022-05-10T11:48:34.143376Z",
     "iopub.status.idle": "2022-05-10T11:48:34.147254Z",
     "shell.execute_reply": "2022-05-10T11:48:34.146587Z"
    },
    "papermill": {
     "duration": 0.058985,
     "end_time": "2022-05-10T11:48:34.149110",
     "exception": false,
     "start_time": "2022-05-10T11:48:34.090125",
     "status": "completed"
    },
    "tags": []
   },
   "outputs": [],
   "source": [
    "#train.corr"
   ]
  },
  {
   "cell_type": "markdown",
   "id": "25a1ef7d",
   "metadata": {
    "papermill": {
     "duration": 0.051954,
     "end_time": "2022-05-10T11:48:34.253689",
     "exception": false,
     "start_time": "2022-05-10T11:48:34.201735",
     "status": "completed"
    },
    "tags": []
   },
   "source": [
    "# Label encode"
   ]
  },
  {
   "cell_type": "markdown",
   "id": "ea73ba34",
   "metadata": {
    "papermill": {
     "duration": 0.051452,
     "end_time": "2022-05-10T11:48:34.357866",
     "exception": false,
     "start_time": "2022-05-10T11:48:34.306414",
     "status": "completed"
    },
    "tags": []
   },
   "source": [
    "We are going to encode objects columns"
   ]
  },
  {
   "cell_type": "code",
   "execution_count": 10,
   "id": "738b156c",
   "metadata": {
    "execution": {
     "iopub.execute_input": "2022-05-10T11:48:34.463205Z",
     "iopub.status.busy": "2022-05-10T11:48:34.462962Z",
     "iopub.status.idle": "2022-05-10T11:48:34.466957Z",
     "shell.execute_reply": "2022-05-10T11:48:34.466142Z"
    },
    "papermill": {
     "duration": 0.058864,
     "end_time": "2022-05-10T11:48:34.468699",
     "exception": false,
     "start_time": "2022-05-10T11:48:34.409835",
     "status": "completed"
    },
    "tags": []
   },
   "outputs": [],
   "source": [
    "from sklearn.preprocessing import LabelEncoder\n",
    "le = LabelEncoder()"
   ]
  },
  {
   "cell_type": "markdown",
   "id": "a9e08ff1",
   "metadata": {
    "papermill": {
     "duration": 0.051964,
     "end_time": "2022-05-10T11:48:34.572740",
     "exception": false,
     "start_time": "2022-05-10T11:48:34.520776",
     "status": "completed"
    },
    "tags": []
   },
   "source": [
    "Object columns selection"
   ]
  },
  {
   "cell_type": "code",
   "execution_count": 11,
   "id": "6b62750b",
   "metadata": {
    "execution": {
     "iopub.execute_input": "2022-05-10T11:48:34.679290Z",
     "iopub.status.busy": "2022-05-10T11:48:34.679045Z",
     "iopub.status.idle": "2022-05-10T11:48:34.685759Z",
     "shell.execute_reply": "2022-05-10T11:48:34.684898Z"
    },
    "papermill": {
     "duration": 0.062928,
     "end_time": "2022-05-10T11:48:34.687610",
     "exception": false,
     "start_time": "2022-05-10T11:48:34.624682",
     "status": "completed"
    },
    "tags": []
   },
   "outputs": [
    {
     "data": {
      "text/plain": [
       "['sequence1',\n",
       " 'sequence2',\n",
       " 'sequence3',\n",
       " 'sequence4',\n",
       " 'sequence5',\n",
       " 'sequence6',\n",
       " 'sequence7',\n",
       " 'sequence8',\n",
       " 'sequence9']"
      ]
     },
     "execution_count": 11,
     "metadata": {},
     "output_type": "execute_result"
    }
   ],
   "source": [
    "obj_cols = [col for col in train.columns if train[col].dtype == 'object']\n",
    "obj_cols"
   ]
  },
  {
   "cell_type": "markdown",
   "id": "ecfd74c9",
   "metadata": {
    "papermill": {
     "duration": 0.051127,
     "end_time": "2022-05-10T11:48:34.790648",
     "exception": false,
     "start_time": "2022-05-10T11:48:34.739521",
     "status": "completed"
    },
    "tags": []
   },
   "source": [
    "Encoding label"
   ]
  },
  {
   "cell_type": "code",
   "execution_count": 12,
   "id": "b6602294",
   "metadata": {
    "execution": {
     "iopub.execute_input": "2022-05-10T11:48:34.895376Z",
     "iopub.status.busy": "2022-05-10T11:48:34.895131Z",
     "iopub.status.idle": "2022-05-10T11:48:36.094432Z",
     "shell.execute_reply": "2022-05-10T11:48:36.093622Z"
    },
    "papermill": {
     "duration": 1.254152,
     "end_time": "2022-05-10T11:48:36.096611",
     "exception": false,
     "start_time": "2022-05-10T11:48:34.842459",
     "status": "completed"
    },
    "tags": []
   },
   "outputs": [],
   "source": [
    "for col in obj_cols:\n",
    "    train[col] = le.fit_transform(train[col])\n",
    "    test[col] = le.transform(test[col])"
   ]
  },
  {
   "cell_type": "markdown",
   "id": "882f0af1",
   "metadata": {
    "papermill": {
     "duration": 0.051285,
     "end_time": "2022-05-10T11:48:36.200942",
     "exception": false,
     "start_time": "2022-05-10T11:48:36.149657",
     "status": "completed"
    },
    "tags": []
   },
   "source": [
    "# Split Data"
   ]
  },
  {
   "cell_type": "code",
   "execution_count": 13,
   "id": "ec2dd6da",
   "metadata": {
    "execution": {
     "iopub.execute_input": "2022-05-10T11:48:36.307580Z",
     "iopub.status.busy": "2022-05-10T11:48:36.307311Z",
     "iopub.status.idle": "2022-05-10T11:48:36.344435Z",
     "shell.execute_reply": "2022-05-10T11:48:36.343613Z"
    },
    "papermill": {
     "duration": 0.092319,
     "end_time": "2022-05-10T11:48:36.346279",
     "exception": false,
     "start_time": "2022-05-10T11:48:36.253960",
     "status": "completed"
    },
    "tags": []
   },
   "outputs": [
    {
     "data": {
      "text/plain": [
       "((180000, 30), (120000, 30))"
      ]
     },
     "execution_count": 13,
     "metadata": {},
     "output_type": "execute_result"
    }
   ],
   "source": [
    "# training Data\n",
    "X = train.drop(['ID','mutation'], axis=1)\n",
    "y = train['mutation']\n",
    "\n",
    "# Test data\n",
    "test = test.drop(['ID'], axis=1)\n",
    "\n",
    "X.shape, test.shape"
   ]
  },
  {
   "cell_type": "code",
   "execution_count": null,
   "id": "fc949cb6",
   "metadata": {
    "papermill": {
     "duration": 0.052183,
     "end_time": "2022-05-10T11:48:36.451236",
     "exception": false,
     "start_time": "2022-05-10T11:48:36.399053",
     "status": "completed"
    },
    "tags": []
   },
   "outputs": [],
   "source": []
  },
  {
   "cell_type": "markdown",
   "id": "bc7589d4",
   "metadata": {
    "papermill": {
     "duration": 0.052094,
     "end_time": "2022-05-10T11:48:36.556222",
     "exception": false,
     "start_time": "2022-05-10T11:48:36.504128",
     "status": "completed"
    },
    "tags": []
   },
   "source": [
    "# Choose a model"
   ]
  },
  {
   "cell_type": "markdown",
   "id": "473da185",
   "metadata": {
    "papermill": {
     "duration": 0.052788,
     "end_time": "2022-05-10T11:48:36.661724",
     "exception": false,
     "start_time": "2022-05-10T11:48:36.608936",
     "status": "completed"
    },
    "tags": []
   },
   "source": [
    "Here, we will compare the performance of three algos. We will use :\n",
    "1. CatBoostClassifier : [doc here](https://catboost.ai/en/docs/concepts/python-reference_catboostclassifier)\n",
    "2. XGBClassifier : [doc here](https://xgboost.readthedocs.io/en/stable/python/python_api.html)\n",
    "3. LGBMClassifier : [doc here](https://lightgbm.readthedocs.io/en/latest/pythonapi/lightgbm.LGBMClassifier.html)"
   ]
  },
  {
   "cell_type": "code",
   "execution_count": 14,
   "id": "6b65f9a0",
   "metadata": {
    "execution": {
     "iopub.execute_input": "2022-05-10T11:48:36.767523Z",
     "iopub.status.busy": "2022-05-10T11:48:36.767297Z",
     "iopub.status.idle": "2022-05-10T11:48:38.031738Z",
     "shell.execute_reply": "2022-05-10T11:48:38.030959Z"
    },
    "papermill": {
     "duration": 1.319921,
     "end_time": "2022-05-10T11:48:38.033887",
     "exception": false,
     "start_time": "2022-05-10T11:48:36.713966",
     "status": "completed"
    },
    "tags": []
   },
   "outputs": [
    {
     "data": {
      "text/html": [
       "<style type='text/css'>\n",
       ".datatable table.frame { margin-bottom: 0; }\n",
       ".datatable table.frame thead { border-bottom: none; }\n",
       ".datatable table.frame tr.coltypes td {  color: #FFFFFF;  line-height: 6px;  padding: 0 0.5em;}\n",
       ".datatable .bool    { background: #DDDD99; }\n",
       ".datatable .object  { background: #565656; }\n",
       ".datatable .int     { background: #5D9E5D; }\n",
       ".datatable .float   { background: #4040CC; }\n",
       ".datatable .str     { background: #CC4040; }\n",
       ".datatable .time    { background: #40CC40; }\n",
       ".datatable .row_index {  background: var(--jp-border-color3);  border-right: 1px solid var(--jp-border-color0);  color: var(--jp-ui-font-color3);  font-size: 9px;}\n",
       ".datatable .frame tbody td { text-align: left; }\n",
       ".datatable .frame tr.coltypes .row_index {  background: var(--jp-border-color0);}\n",
       ".datatable th:nth-child(2) { padding-left: 12px; }\n",
       ".datatable .hellipsis {  color: var(--jp-cell-editor-border-color);}\n",
       ".datatable .vellipsis {  background: var(--jp-layout-color0);  color: var(--jp-cell-editor-border-color);}\n",
       ".datatable .na {  color: var(--jp-cell-editor-border-color);  font-size: 80%;}\n",
       ".datatable .sp {  opacity: 0.25;}\n",
       ".datatable .footer { font-size: 9px; }\n",
       ".datatable .frame_dimensions {  background: var(--jp-border-color3);  border-top: 1px solid var(--jp-border-color0);  color: var(--jp-ui-font-color3);  display: inline-block;  opacity: 0.6;  padding: 1px 10px 1px 5px;}\n",
       "</style>\n"
      ],
      "text/plain": [
       "<IPython.core.display.HTML object>"
      ]
     },
     "metadata": {},
     "output_type": "display_data"
    }
   ],
   "source": [
    "# Import labraries\n",
    "from lightgbm import LGBMClassifier\n",
    "from catboost import CatBoostClassifier\n",
    "from xgboost import XGBClassifier"
   ]
  },
  {
   "cell_type": "code",
   "execution_count": 15,
   "id": "d3ad968d",
   "metadata": {
    "execution": {
     "iopub.execute_input": "2022-05-10T11:48:38.142046Z",
     "iopub.status.busy": "2022-05-10T11:48:38.141808Z",
     "iopub.status.idle": "2022-05-10T11:48:38.147636Z",
     "shell.execute_reply": "2022-05-10T11:48:38.147086Z"
    },
    "papermill": {
     "duration": 0.062089,
     "end_time": "2022-05-10T11:48:38.149122",
     "exception": false,
     "start_time": "2022-05-10T11:48:38.087033",
     "status": "completed"
    },
    "tags": []
   },
   "outputs": [],
   "source": [
    "models = [\n",
    "    CatBoostClassifier(verbose=False), \n",
    "    XGBClassifier(), \n",
    "    LGBMClassifier()\n",
    "]"
   ]
  },
  {
   "cell_type": "code",
   "execution_count": 16,
   "id": "3a03f893",
   "metadata": {
    "collapsed": true,
    "execution": {
     "iopub.execute_input": "2022-05-10T11:48:38.257682Z",
     "iopub.status.busy": "2022-05-10T11:48:38.257245Z",
     "iopub.status.idle": "2022-05-10T11:49:40.666329Z",
     "shell.execute_reply": "2022-05-10T11:49:40.665400Z"
    },
    "jupyter": {
     "outputs_hidden": true
    },
    "papermill": {
     "duration": 62.466134,
     "end_time": "2022-05-10T11:49:40.668246",
     "exception": false,
     "start_time": "2022-05-10T11:48:38.202112",
     "status": "completed"
    },
    "tags": []
   },
   "outputs": [
    {
     "name": "stdout",
     "output_type": "stream",
     "text": [
      "Accuracy score (<catboost.core.CatBoostClassifier object at 0x7f725c2bde90>) :  0.86995 \n",
      "\n",
      "Accuracy score (XGBClassifier(base_score=0.5, booster='gbtree', callbacks=None,\n",
      "              colsample_bylevel=1, colsample_bynode=1, colsample_bytree=1,\n",
      "              early_stopping_rounds=None, enable_categorical=False,\n",
      "              eval_metric=None, gamma=0, gpu_id=-1, grow_policy='depthwise',\n",
      "              importance_type=None, interaction_constraints='',\n",
      "              learning_rate=0.300000012, max_bin=256, max_cat_to_onehot=4,\n",
      "              max_delta_step=0, max_depth=6, max_leaves=0, min_child_weight=1,\n",
      "              missing=nan, monotone_constraints='()', n_estimators=100,\n",
      "              n_jobs=0, num_parallel_tree=1, predictor='auto', random_state=0,\n",
      "              reg_alpha=0, reg_lambda=1, ...)) :  0.8688166666666667 \n",
      "\n",
      "Accuracy score (LGBMClassifier()) :  0.85205 \n",
      "\n"
     ]
    }
   ],
   "source": [
    "for model in models:\n",
    "    # Fit model\n",
    "    model.fit(X,y)  \n",
    "    \n",
    "    # Test Model\n",
    "    predict = model.predict(X)              \n",
    "    \n",
    "    # Evaluate model\n",
    "    print(f\"Accuracy score ({str(model)}) : \", accuracy_score(y, predict), '\\n')"
   ]
  },
  {
   "cell_type": "markdown",
   "id": "d374cc85",
   "metadata": {
    "papermill": {
     "duration": 0.054014,
     "end_time": "2022-05-10T11:49:40.776709",
     "exception": false,
     "start_time": "2022-05-10T11:49:40.722695",
     "status": "completed"
    },
    "tags": []
   },
   "source": [
    "### Free the memory"
   ]
  },
  {
   "cell_type": "code",
   "execution_count": 17,
   "id": "7115db75",
   "metadata": {
    "execution": {
     "iopub.execute_input": "2022-05-10T11:49:40.887316Z",
     "iopub.status.busy": "2022-05-10T11:49:40.887050Z",
     "iopub.status.idle": "2022-05-10T11:49:41.071335Z",
     "shell.execute_reply": "2022-05-10T11:49:41.070339Z"
    },
    "papermill": {
     "duration": 0.242189,
     "end_time": "2022-05-10T11:49:41.073257",
     "exception": false,
     "start_time": "2022-05-10T11:49:40.831068",
     "status": "completed"
    },
    "tags": []
   },
   "outputs": [
    {
     "data": {
      "text/plain": [
       "139"
      ]
     },
     "execution_count": 17,
     "metadata": {},
     "output_type": "execute_result"
    }
   ],
   "source": [
    "import gc\n",
    "\n",
    "del models, train, le, obj_cols\n",
    "gc.collect()"
   ]
  },
  {
   "cell_type": "markdown",
   "id": "c085fcb7",
   "metadata": {
    "papermill": {
     "duration": 0.054673,
     "end_time": "2022-05-10T11:49:41.184999",
     "exception": false,
     "start_time": "2022-05-10T11:49:41.130326",
     "status": "completed"
    },
    "tags": []
   },
   "source": [
    "# Modeling with CatBoost"
   ]
  },
  {
   "cell_type": "markdown",
   "id": "cdf66cdd",
   "metadata": {
    "papermill": {
     "duration": 0.056266,
     "end_time": "2022-05-10T11:49:41.296387",
     "exception": false,
     "start_time": "2022-05-10T11:49:41.240121",
     "status": "completed"
    },
    "tags": []
   },
   "source": [
    "Here, we'll use optuna to search the best params of catboost model "
   ]
  },
  {
   "cell_type": "code",
   "execution_count": 18,
   "id": "af2f7d71",
   "metadata": {
    "collapsed": true,
    "execution": {
     "iopub.execute_input": "2022-05-10T11:49:41.409652Z",
     "iopub.status.busy": "2022-05-10T11:49:41.409375Z",
     "iopub.status.idle": "2022-05-10T11:49:41.418133Z",
     "shell.execute_reply": "2022-05-10T11:49:41.417415Z"
    },
    "jupyter": {
     "outputs_hidden": true
    },
    "papermill": {
     "duration": 0.067028,
     "end_time": "2022-05-10T11:49:41.419840",
     "exception": false,
     "start_time": "2022-05-10T11:49:41.352812",
     "status": "completed"
    },
    "tags": []
   },
   "outputs": [
    {
     "data": {
      "text/plain": [
       "'\\nstudy = optuna.create_study(direction = \"maximize\")\\nstudy.optimize(objectiveCatboost, n_trials=12)\\n'"
      ]
     },
     "execution_count": 18,
     "metadata": {},
     "output_type": "execute_result"
    }
   ],
   "source": [
    "def objectiveCatboost(trial):\n",
    "    iterations = trial.suggest_int(\"iterations\", 10, 3000)\n",
    "    max_depth = trial.suggest_int(\"max_depth\", 1, 16)\n",
    "    random_state = trial.suggest_int(\"random_state\", 1, 2022)\n",
    "    learning_rate = trial.suggest_float(\"learning_rate\", 0, 1)\n",
    "    verbose = False\n",
    "    \n",
    "    clf = CatBoostClassifier(iterations = iterations,\n",
    "                               max_depth = max_depth,\n",
    "                               learning_rate = learning_rate,\n",
    "                               random_state = random_state,\n",
    "                               verbose=verbose\n",
    "                              )\n",
    "    clf.fit(X, y)\n",
    "    return clf.score(X, y)\n",
    "\n",
    "\"\"\"\n",
    "study = optuna.create_study(direction = \"maximize\")\n",
    "study.optimize(objectiveCatboost, n_trials=12)\n",
    "\"\"\""
   ]
  },
  {
   "cell_type": "markdown",
   "id": "9219c8e1",
   "metadata": {
    "papermill": {
     "duration": 0.054973,
     "end_time": "2022-05-10T11:49:41.529945",
     "exception": false,
     "start_time": "2022-05-10T11:49:41.474972",
     "status": "completed"
    },
    "tags": []
   },
   "source": [
    "The best params is :"
   ]
  },
  {
   "cell_type": "code",
   "execution_count": 19,
   "id": "5697c57f",
   "metadata": {
    "execution": {
     "iopub.execute_input": "2022-05-10T11:49:41.641304Z",
     "iopub.status.busy": "2022-05-10T11:49:41.640853Z",
     "iopub.status.idle": "2022-05-10T11:49:41.644245Z",
     "shell.execute_reply": "2022-05-10T11:49:41.643783Z"
    },
    "papermill": {
     "duration": 0.060911,
     "end_time": "2022-05-10T11:49:41.645767",
     "exception": false,
     "start_time": "2022-05-10T11:49:41.584856",
     "status": "completed"
    },
    "tags": []
   },
   "outputs": [],
   "source": [
    "#parameters = study.best_params\n",
    "parameters = {'iterations': 2035, 'max_depth': 12, 'random_state': 1800, 'learning_rate': 0.34696069649515215}"
   ]
  },
  {
   "cell_type": "markdown",
   "id": "b1a71868",
   "metadata": {
    "papermill": {
     "duration": 0.054664,
     "end_time": "2022-05-10T11:49:41.755347",
     "exception": false,
     "start_time": "2022-05-10T11:49:41.700683",
     "status": "completed"
    },
    "tags": []
   },
   "source": [
    "# Cross validation"
   ]
  },
  {
   "cell_type": "code",
   "execution_count": 20,
   "id": "1099ef7f",
   "metadata": {
    "execution": {
     "iopub.execute_input": "2022-05-10T11:49:41.866556Z",
     "iopub.status.busy": "2022-05-10T11:49:41.866343Z",
     "iopub.status.idle": "2022-05-10T11:49:41.870365Z",
     "shell.execute_reply": "2022-05-10T11:49:41.869532Z"
    },
    "papermill": {
     "duration": 0.0617,
     "end_time": "2022-05-10T11:49:41.872183",
     "exception": false,
     "start_time": "2022-05-10T11:49:41.810483",
     "status": "completed"
    },
    "tags": []
   },
   "outputs": [],
   "source": [
    "from sklearn.metrics import roc_auc_score\n",
    "from sklearn.model_selection import StratifiedKFold"
   ]
  },
  {
   "cell_type": "markdown",
   "id": "d6b0f69c",
   "metadata": {
    "papermill": {
     "duration": 0.054636,
     "end_time": "2022-05-10T11:49:41.982798",
     "exception": false,
     "start_time": "2022-05-10T11:49:41.928162",
     "status": "completed"
    },
    "tags": []
   },
   "source": [
    "# Test prediction"
   ]
  },
  {
   "cell_type": "code",
   "execution_count": 21,
   "id": "d2e82503",
   "metadata": {
    "collapsed": true,
    "execution": {
     "iopub.execute_input": "2022-05-10T11:49:42.094677Z",
     "iopub.status.busy": "2022-05-10T11:49:42.093913Z",
     "iopub.status.idle": "2022-05-10T12:55:26.691238Z",
     "shell.execute_reply": "2022-05-10T12:55:26.690631Z"
    },
    "jupyter": {
     "outputs_hidden": true
    },
    "papermill": {
     "duration": 3944.714676,
     "end_time": "2022-05-10T12:55:26.752383",
     "exception": false,
     "start_time": "2022-05-10T11:49:42.037707",
     "status": "completed"
    },
    "tags": []
   },
   "outputs": [
    {
     "name": "stdout",
     "output_type": "stream",
     "text": [
      "**************  Fold 0  ************** \n",
      "\n",
      "Roc auc score  : 0.8713766442886139 \n",
      "\n",
      "**************  Fold 1  ************** \n",
      "\n",
      "Roc auc score  : 0.8716668190346185 \n",
      "\n",
      "**************  Fold 2  ************** \n",
      "\n",
      "Roc auc score  : 0.8738715242239292 \n",
      "\n",
      "**************  Fold 3  ************** \n",
      "\n",
      "Roc auc score  : 0.8680151454854176 \n",
      "\n",
      "**************  Fold 4  ************** \n",
      "\n",
      "Roc auc score  : 0.8691110942598326 \n",
      "\n",
      "**************  Fold 5  ************** \n",
      "\n",
      "Roc auc score  : 0.8757968364565186 \n",
      "\n",
      "**************  Fold 6  ************** \n",
      "\n",
      "Roc auc score  : 0.8712203992121057 \n",
      "\n"
     ]
    }
   ],
   "source": [
    "kf = StratifiedKFold(n_splits=7, shuffle=True, random_state = 0)\n",
    "y_predict = []\n",
    "\n",
    "for fold, (train_index, val_index) in enumerate(kf.split(X, y)):\n",
    "        print('*'*14, f\" Fold {fold} \", '*'*14, '\\n')\n",
    "        \n",
    "        # Split Data\n",
    "        X_train = X.loc[train_index]\n",
    "        X_val = X.loc[val_index]\n",
    "\n",
    "        y_train = y.loc[train_index]\n",
    "        y_val = y.loc[val_index]\n",
    "        \n",
    "        # Create Model here\n",
    "        model = CatBoostClassifier(**parameters, verbose=0)\n",
    "        \n",
    "        # Fit Model\n",
    "        model.fit(X_train,y_train)\n",
    "\n",
    "        # Make X_val prediction\n",
    "        y_pred = model.predict_proba(X_val)[:,1]\n",
    "        \n",
    "        # Make Test prediction\n",
    "        test_pred = model.predict_proba(test)[:,1]\n",
    "        y_predict.append(test_pred)\n",
    "        \n",
    "        # Evaluate Model\n",
    "        #print(\"Training score :\", model.score(X_train, y_train))\n",
    "        print(\"Roc auc score  :\", roc_auc_score(y_val, y_pred), '\\n')\n",
    "        \n",
    "        # Free the memory\n",
    "        del X_train, y_train, model, X_val, y_val, y_pred, test_pred\n",
    "        gc.collect()\n"
   ]
  },
  {
   "cell_type": "code",
   "execution_count": null,
   "id": "d7fd18a3",
   "metadata": {
    "papermill": {
     "duration": 0.058507,
     "end_time": "2022-05-10T12:55:26.870639",
     "exception": false,
     "start_time": "2022-05-10T12:55:26.812132",
     "status": "completed"
    },
    "tags": []
   },
   "outputs": [],
   "source": []
  },
  {
   "cell_type": "markdown",
   "id": "be8cb786",
   "metadata": {
    "papermill": {
     "duration": 0.059093,
     "end_time": "2022-05-10T12:55:26.989943",
     "exception": false,
     "start_time": "2022-05-10T12:55:26.930850",
     "status": "completed"
    },
    "tags": []
   },
   "source": [
    "# Submission"
   ]
  },
  {
   "cell_type": "code",
   "execution_count": 22,
   "id": "2ba4beb9",
   "metadata": {
    "execution": {
     "iopub.execute_input": "2022-05-10T12:55:27.111051Z",
     "iopub.status.busy": "2022-05-10T12:55:27.110804Z",
     "iopub.status.idle": "2022-05-10T12:55:27.178819Z",
     "shell.execute_reply": "2022-05-10T12:55:27.178040Z"
    },
    "papermill": {
     "duration": 0.131099,
     "end_time": "2022-05-10T12:55:27.180576",
     "exception": false,
     "start_time": "2022-05-10T12:55:27.049477",
     "status": "completed"
    },
    "tags": []
   },
   "outputs": [
    {
     "data": {
      "text/html": [
       "<div>\n",
       "<style scoped>\n",
       "    .dataframe tbody tr th:only-of-type {\n",
       "        vertical-align: middle;\n",
       "    }\n",
       "\n",
       "    .dataframe tbody tr th {\n",
       "        vertical-align: top;\n",
       "    }\n",
       "\n",
       "    .dataframe thead th {\n",
       "        text-align: right;\n",
       "    }\n",
       "</style>\n",
       "<table border=\"1\" class=\"dataframe\">\n",
       "  <thead>\n",
       "    <tr style=\"text-align: right;\">\n",
       "      <th></th>\n",
       "      <th>ID</th>\n",
       "      <th>mutation</th>\n",
       "    </tr>\n",
       "  </thead>\n",
       "  <tbody>\n",
       "    <tr>\n",
       "      <th>0</th>\n",
       "      <td>1</td>\n",
       "      <td>0.5</td>\n",
       "    </tr>\n",
       "    <tr>\n",
       "      <th>1</th>\n",
       "      <td>3</td>\n",
       "      <td>0.5</td>\n",
       "    </tr>\n",
       "    <tr>\n",
       "      <th>2</th>\n",
       "      <td>4</td>\n",
       "      <td>0.5</td>\n",
       "    </tr>\n",
       "    <tr>\n",
       "      <th>3</th>\n",
       "      <td>6</td>\n",
       "      <td>0.5</td>\n",
       "    </tr>\n",
       "    <tr>\n",
       "      <th>4</th>\n",
       "      <td>8</td>\n",
       "      <td>0.5</td>\n",
       "    </tr>\n",
       "  </tbody>\n",
       "</table>\n",
       "</div>"
      ],
      "text/plain": [
       "   ID  mutation\n",
       "0   1       0.5\n",
       "1   3       0.5\n",
       "2   4       0.5\n",
       "3   6       0.5\n",
       "4   8       0.5"
      ]
     },
     "execution_count": 22,
     "metadata": {},
     "output_type": "execute_result"
    }
   ],
   "source": [
    "submission = pd.read_csv('../input/devday22-competition-datascience/sample_submission.csv')\n",
    "submission.head()"
   ]
  },
  {
   "cell_type": "code",
   "execution_count": 23,
   "id": "7d44b1e0",
   "metadata": {
    "execution": {
     "iopub.execute_input": "2022-05-10T12:55:27.260255Z",
     "iopub.status.busy": "2022-05-10T12:55:27.259993Z",
     "iopub.status.idle": "2022-05-10T12:55:27.633613Z",
     "shell.execute_reply": "2022-05-10T12:55:27.632902Z"
    },
    "papermill": {
     "duration": 0.415967,
     "end_time": "2022-05-10T12:55:27.635589",
     "exception": false,
     "start_time": "2022-05-10T12:55:27.219622",
     "status": "completed"
    },
    "tags": []
   },
   "outputs": [
    {
     "data": {
      "text/html": [
       "<div>\n",
       "<style scoped>\n",
       "    .dataframe tbody tr th:only-of-type {\n",
       "        vertical-align: middle;\n",
       "    }\n",
       "\n",
       "    .dataframe tbody tr th {\n",
       "        vertical-align: top;\n",
       "    }\n",
       "\n",
       "    .dataframe thead th {\n",
       "        text-align: right;\n",
       "    }\n",
       "</style>\n",
       "<table border=\"1\" class=\"dataframe\">\n",
       "  <thead>\n",
       "    <tr style=\"text-align: right;\">\n",
       "      <th></th>\n",
       "      <th>ID</th>\n",
       "      <th>mutation</th>\n",
       "    </tr>\n",
       "  </thead>\n",
       "  <tbody>\n",
       "    <tr>\n",
       "      <th>0</th>\n",
       "      <td>1</td>\n",
       "      <td>0.429409</td>\n",
       "    </tr>\n",
       "    <tr>\n",
       "      <th>1</th>\n",
       "      <td>3</td>\n",
       "      <td>0.002682</td>\n",
       "    </tr>\n",
       "    <tr>\n",
       "      <th>2</th>\n",
       "      <td>4</td>\n",
       "      <td>0.141149</td>\n",
       "    </tr>\n",
       "    <tr>\n",
       "      <th>3</th>\n",
       "      <td>6</td>\n",
       "      <td>0.015162</td>\n",
       "    </tr>\n",
       "    <tr>\n",
       "      <th>4</th>\n",
       "      <td>8</td>\n",
       "      <td>0.000459</td>\n",
       "    </tr>\n",
       "    <tr>\n",
       "      <th>...</th>\n",
       "      <td>...</td>\n",
       "      <td>...</td>\n",
       "    </tr>\n",
       "    <tr>\n",
       "      <th>119995</th>\n",
       "      <td>299983</td>\n",
       "      <td>0.010378</td>\n",
       "    </tr>\n",
       "    <tr>\n",
       "      <th>119996</th>\n",
       "      <td>299984</td>\n",
       "      <td>0.913129</td>\n",
       "    </tr>\n",
       "    <tr>\n",
       "      <th>119997</th>\n",
       "      <td>299990</td>\n",
       "      <td>0.847451</td>\n",
       "    </tr>\n",
       "    <tr>\n",
       "      <th>119998</th>\n",
       "      <td>299991</td>\n",
       "      <td>0.000128</td>\n",
       "    </tr>\n",
       "    <tr>\n",
       "      <th>119999</th>\n",
       "      <td>299992</td>\n",
       "      <td>0.868888</td>\n",
       "    </tr>\n",
       "  </tbody>\n",
       "</table>\n",
       "<p>120000 rows × 2 columns</p>\n",
       "</div>"
      ],
      "text/plain": [
       "            ID  mutation\n",
       "0            1  0.429409\n",
       "1            3  0.002682\n",
       "2            4  0.141149\n",
       "3            6  0.015162\n",
       "4            8  0.000459\n",
       "...        ...       ...\n",
       "119995  299983  0.010378\n",
       "119996  299984  0.913129\n",
       "119997  299990  0.847451\n",
       "119998  299991  0.000128\n",
       "119999  299992  0.868888\n",
       "\n",
       "[120000 rows x 2 columns]"
      ]
     },
     "execution_count": 23,
     "metadata": {},
     "output_type": "execute_result"
    }
   ],
   "source": [
    "submission['mutation'] = np.array(y_predict).mean(axis=0)\n",
    "submission.to_csv('submission.csv', index=False)\n",
    "submission"
   ]
  },
  {
   "cell_type": "code",
   "execution_count": null,
   "id": "f0924f43",
   "metadata": {
    "papermill": {
     "duration": 0.039911,
     "end_time": "2022-05-10T12:55:27.716188",
     "exception": false,
     "start_time": "2022-05-10T12:55:27.676277",
     "status": "completed"
    },
    "tags": []
   },
   "outputs": [],
   "source": []
  },
  {
   "cell_type": "markdown",
   "id": "4081cd29",
   "metadata": {
    "papermill": {
     "duration": 0.039942,
     "end_time": "2022-05-10T12:55:27.796113",
     "exception": false,
     "start_time": "2022-05-10T12:55:27.756171",
     "status": "completed"
    },
    "tags": []
   },
   "source": [
    "<center>\n",
    "    <h2 style=\"color:#2c3f51\">Thanks for reading...</h2>"
   ]
  }
 ],
 "metadata": {
  "kernelspec": {
   "display_name": "Python 3",
   "language": "python",
   "name": "python3"
  },
  "language_info": {
   "codemirror_mode": {
    "name": "ipython",
    "version": 3
   },
   "file_extension": ".py",
   "mimetype": "text/x-python",
   "name": "python",
   "nbconvert_exporter": "python",
   "pygments_lexer": "ipython3",
   "version": "3.7.12"
  },
  "papermill": {
   "default_parameters": {},
   "duration": 4031.177799,
   "end_time": "2022-05-10T12:55:28.961316",
   "environment_variables": {},
   "exception": null,
   "input_path": "__notebook__.ipynb",
   "output_path": "__notebook__.ipynb",
   "parameters": {},
   "start_time": "2022-05-10T11:48:17.783517",
   "version": "2.3.4"
  }
 },
 "nbformat": 4,
 "nbformat_minor": 5
}
