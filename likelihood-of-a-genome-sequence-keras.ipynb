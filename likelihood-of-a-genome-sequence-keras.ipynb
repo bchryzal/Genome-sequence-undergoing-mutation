{
 "cells": [
  {
   "cell_type": "markdown",
   "id": "574690e8",
   "metadata": {
    "papermill": {
     "duration": 0.028018,
     "end_time": "2022-05-11T08:55:32.061367",
     "exception": false,
     "start_time": "2022-05-11T08:55:32.033349",
     "status": "completed"
    },
    "tags": []
   },
   "source": [
    "<h1 style=\"color:#2c3f51\">Predict the likelihood of a genome sequence undergoing mutation.</h1>"
   ]
  },
  {
   "cell_type": "code",
   "execution_count": 1,
   "id": "f0cb47d0",
   "metadata": {
    "_cell_guid": "b1076dfc-b9ad-4769-8c92-a6c4dae69d19",
    "_uuid": "8f2839f25d086af736a60e9eeb907d3b93b6e0e5",
    "execution": {
     "iopub.execute_input": "2022-05-11T08:55:32.116055Z",
     "iopub.status.busy": "2022-05-11T08:55:32.115199Z",
     "iopub.status.idle": "2022-05-11T08:55:34.084974Z",
     "shell.execute_reply": "2022-05-11T08:55:34.084063Z"
    },
    "papermill": {
     "duration": 1.999943,
     "end_time": "2022-05-11T08:55:34.087796",
     "exception": false,
     "start_time": "2022-05-11T08:55:32.087853",
     "status": "completed"
    },
    "tags": []
   },
   "outputs": [],
   "source": [
    "import numpy as np # linear algebra\n",
    "import pandas as pd # data processing, CSV file I/O (e.g. pd.read_csv)\n",
    "\n",
    "import optuna\n",
    "\n",
    "# Metrics\n",
    "from sklearn.metrics import accuracy_score\n",
    "\n",
    "import warnings\n",
    "warnings.filterwarnings('ignore')"
   ]
  },
  {
   "cell_type": "code",
   "execution_count": 2,
   "id": "a94dcee1",
   "metadata": {
    "execution": {
     "iopub.execute_input": "2022-05-11T08:55:34.142433Z",
     "iopub.status.busy": "2022-05-11T08:55:34.141763Z",
     "iopub.status.idle": "2022-05-11T08:55:40.644486Z",
     "shell.execute_reply": "2022-05-11T08:55:40.643551Z"
    },
    "papermill": {
     "duration": 6.533037,
     "end_time": "2022-05-11T08:55:40.647281",
     "exception": false,
     "start_time": "2022-05-11T08:55:34.114244",
     "status": "completed"
    },
    "tags": []
   },
   "outputs": [],
   "source": [
    "import matplotlib.pyplot as plt\n",
    "from matplotlib.ticker import MaxNLocator\n",
    "from matplotlib.colors import ListedColormap\n",
    "import seaborn as sns\n",
    "from cycler import cycler\n",
    "from IPython.display import display\n",
    "import datetime\n",
    "import scipy.stats\n",
    "import math\n",
    "import random\n",
    "\n",
    "\n",
    "from sklearn.model_selection import KFold\n",
    "from sklearn.metrics import roc_auc_score, roc_curve\n",
    "from sklearn.calibration import CalibrationDisplay\n",
    "from sklearn.preprocessing import StandardScaler\n",
    "from sklearn.model_selection import StratifiedKFold\n",
    "\n",
    "import tensorflow as tf\n",
    "from tensorflow.keras.models import Model\n",
    "from tensorflow.keras.callbacks import ReduceLROnPlateau, LearningRateScheduler, EarlyStopping\n",
    "from tensorflow.keras.layers import Dense, Input, InputLayer, Add, Concatenate\n",
    "from tensorflow.keras.utils import plot_model\n",
    "\n",
    "plt.rcParams['axes.prop_cycle'] = cycler(color=['#ffd700'] +\n",
    "                                         plt.rcParams['axes.prop_cycle'].by_key()['color'][1:])\n"
   ]
  },
  {
   "cell_type": "markdown",
   "id": "cb8b86b4",
   "metadata": {
    "papermill": {
     "duration": 0.024937,
     "end_time": "2022-05-11T08:55:40.698543",
     "exception": false,
     "start_time": "2022-05-11T08:55:40.673606",
     "status": "completed"
    },
    "tags": []
   },
   "source": [
    "# Loading Data"
   ]
  },
  {
   "cell_type": "code",
   "execution_count": 3,
   "id": "437ab272",
   "metadata": {
    "execution": {
     "iopub.execute_input": "2022-05-11T08:55:40.755493Z",
     "iopub.status.busy": "2022-05-11T08:55:40.755191Z",
     "iopub.status.idle": "2022-05-11T08:55:43.783033Z",
     "shell.execute_reply": "2022-05-11T08:55:43.781187Z"
    },
    "papermill": {
     "duration": 3.059522,
     "end_time": "2022-05-11T08:55:43.785694",
     "exception": false,
     "start_time": "2022-05-11T08:55:40.726172",
     "status": "completed"
    },
    "tags": []
   },
   "outputs": [
    {
     "name": "stdout",
     "output_type": "stream",
     "text": [
      "Data Dimension\n",
      "\n"
     ]
    },
    {
     "data": {
      "text/plain": [
       "((180000, 32), (120000, 31))"
      ]
     },
     "execution_count": 3,
     "metadata": {},
     "output_type": "execute_result"
    }
   ],
   "source": [
    "train = pd.read_csv('../input/devday22-competition-datascience/train.csv')\n",
    "test = pd.read_csv('../input/devday22-competition-datascience/test.csv')\n",
    "\n",
    "print('Data Dimension\\n')\n",
    "train.shape, test.shape"
   ]
  },
  {
   "cell_type": "markdown",
   "id": "7dbfa963",
   "metadata": {
    "papermill": {
     "duration": 0.026079,
     "end_time": "2022-05-11T08:55:43.838690",
     "exception": false,
     "start_time": "2022-05-11T08:55:43.812611",
     "status": "completed"
    },
    "tags": []
   },
   "source": [
    "# Understanding Data"
   ]
  },
  {
   "cell_type": "markdown",
   "id": "576fc906",
   "metadata": {
    "papermill": {
     "duration": 0.026421,
     "end_time": "2022-05-11T08:55:43.891688",
     "exception": false,
     "start_time": "2022-05-11T08:55:43.865267",
     "status": "completed"
    },
    "tags": []
   },
   "source": [
    "- Data describe"
   ]
  },
  {
   "cell_type": "code",
   "execution_count": 4,
   "id": "6c253d20",
   "metadata": {
    "execution": {
     "iopub.execute_input": "2022-05-11T08:55:43.946304Z",
     "iopub.status.busy": "2022-05-11T08:55:43.945945Z",
     "iopub.status.idle": "2022-05-11T08:55:44.214565Z",
     "shell.execute_reply": "2022-05-11T08:55:44.213389Z"
    },
    "papermill": {
     "duration": 0.299063,
     "end_time": "2022-05-11T08:55:44.217112",
     "exception": false,
     "start_time": "2022-05-11T08:55:43.918049",
     "status": "completed"
    },
    "tags": []
   },
   "outputs": [
    {
     "data": {
      "text/html": [
       "<div>\n",
       "<style scoped>\n",
       "    .dataframe tbody tr th:only-of-type {\n",
       "        vertical-align: middle;\n",
       "    }\n",
       "\n",
       "    .dataframe tbody tr th {\n",
       "        vertical-align: top;\n",
       "    }\n",
       "\n",
       "    .dataframe thead th {\n",
       "        text-align: right;\n",
       "    }\n",
       "</style>\n",
       "<table border=\"1\" class=\"dataframe\">\n",
       "  <thead>\n",
       "    <tr style=\"text-align: right;\">\n",
       "      <th></th>\n",
       "      <th>ID</th>\n",
       "      <th>A</th>\n",
       "      <th>B</th>\n",
       "      <th>C</th>\n",
       "      <th>D</th>\n",
       "      <th>E</th>\n",
       "      <th>F</th>\n",
       "      <th>G</th>\n",
       "      <th>H</th>\n",
       "      <th>I</th>\n",
       "      <th>...</th>\n",
       "      <th>M</th>\n",
       "      <th>N</th>\n",
       "      <th>O</th>\n",
       "      <th>P</th>\n",
       "      <th>Q</th>\n",
       "      <th>R</th>\n",
       "      <th>S</th>\n",
       "      <th>T</th>\n",
       "      <th>U</th>\n",
       "      <th>mutation</th>\n",
       "    </tr>\n",
       "  </thead>\n",
       "  <tbody>\n",
       "    <tr>\n",
       "      <th>count</th>\n",
       "      <td>180000.000000</td>\n",
       "      <td>180000.000000</td>\n",
       "      <td>180000.000000</td>\n",
       "      <td>180000.000000</td>\n",
       "      <td>180000.000000</td>\n",
       "      <td>180000.000000</td>\n",
       "      <td>180000.000000</td>\n",
       "      <td>180000.000000</td>\n",
       "      <td>180000.000000</td>\n",
       "      <td>180000.000000</td>\n",
       "      <td>...</td>\n",
       "      <td>180000.000000</td>\n",
       "      <td>180000.000000</td>\n",
       "      <td>180000.000000</td>\n",
       "      <td>180000.000000</td>\n",
       "      <td>180000.000000</td>\n",
       "      <td>180000.000000</td>\n",
       "      <td>180000.000000</td>\n",
       "      <td>180000.000000</td>\n",
       "      <td>180000.000000</td>\n",
       "      <td>180000.000000</td>\n",
       "    </tr>\n",
       "    <tr>\n",
       "      <th>mean</th>\n",
       "      <td>150259.572350</td>\n",
       "      <td>8.118989</td>\n",
       "      <td>2.632989</td>\n",
       "      <td>0.617833</td>\n",
       "      <td>4.802733</td>\n",
       "      <td>29.696178</td>\n",
       "      <td>1.262467</td>\n",
       "      <td>23.543444</td>\n",
       "      <td>33.423717</td>\n",
       "      <td>1.605150</td>\n",
       "      <td>...</td>\n",
       "      <td>0.516286</td>\n",
       "      <td>0.474217</td>\n",
       "      <td>0.505086</td>\n",
       "      <td>0.501836</td>\n",
       "      <td>0.487837</td>\n",
       "      <td>0.501700</td>\n",
       "      <td>0.487640</td>\n",
       "      <td>0.469766</td>\n",
       "      <td>0.507951</td>\n",
       "      <td>0.264900</td>\n",
       "    </tr>\n",
       "    <tr>\n",
       "      <th>std</th>\n",
       "      <td>86591.625009</td>\n",
       "      <td>3.078097</td>\n",
       "      <td>4.147355</td>\n",
       "      <td>1.191218</td>\n",
       "      <td>1.514448</td>\n",
       "      <td>12.700896</td>\n",
       "      <td>2.109440</td>\n",
       "      <td>13.897618</td>\n",
       "      <td>18.991241</td>\n",
       "      <td>2.752459</td>\n",
       "      <td>...</td>\n",
       "      <td>0.214696</td>\n",
       "      <td>0.216486</td>\n",
       "      <td>0.227391</td>\n",
       "      <td>0.241277</td>\n",
       "      <td>0.211201</td>\n",
       "      <td>0.203394</td>\n",
       "      <td>0.178990</td>\n",
       "      <td>0.194466</td>\n",
       "      <td>0.203378</td>\n",
       "      <td>0.441281</td>\n",
       "    </tr>\n",
       "    <tr>\n",
       "      <th>min</th>\n",
       "      <td>0.000000</td>\n",
       "      <td>0.000000</td>\n",
       "      <td>0.000000</td>\n",
       "      <td>0.000000</td>\n",
       "      <td>0.000000</td>\n",
       "      <td>0.000000</td>\n",
       "      <td>0.000000</td>\n",
       "      <td>0.000000</td>\n",
       "      <td>0.000000</td>\n",
       "      <td>0.000000</td>\n",
       "      <td>...</td>\n",
       "      <td>0.099276</td>\n",
       "      <td>-0.045316</td>\n",
       "      <td>0.169495</td>\n",
       "      <td>-0.033695</td>\n",
       "      <td>0.005199</td>\n",
       "      <td>0.093056</td>\n",
       "      <td>0.024139</td>\n",
       "      <td>0.215575</td>\n",
       "      <td>0.097789</td>\n",
       "      <td>0.000000</td>\n",
       "    </tr>\n",
       "    <tr>\n",
       "      <th>25%</th>\n",
       "      <td>75313.750000</td>\n",
       "      <td>7.000000</td>\n",
       "      <td>0.000000</td>\n",
       "      <td>0.000000</td>\n",
       "      <td>4.000000</td>\n",
       "      <td>33.000000</td>\n",
       "      <td>0.000000</td>\n",
       "      <td>9.000000</td>\n",
       "      <td>19.000000</td>\n",
       "      <td>0.000000</td>\n",
       "      <td>...</td>\n",
       "      <td>0.325804</td>\n",
       "      <td>0.291995</td>\n",
       "      <td>0.279693</td>\n",
       "      <td>0.276133</td>\n",
       "      <td>0.323797</td>\n",
       "      <td>0.353174</td>\n",
       "      <td>0.358795</td>\n",
       "      <td>0.310106</td>\n",
       "      <td>0.367429</td>\n",
       "      <td>0.000000</td>\n",
       "    </tr>\n",
       "    <tr>\n",
       "      <th>50%</th>\n",
       "      <td>150321.000000</td>\n",
       "      <td>8.000000</td>\n",
       "      <td>0.000000</td>\n",
       "      <td>0.000000</td>\n",
       "      <td>4.000000</td>\n",
       "      <td>33.000000</td>\n",
       "      <td>0.000000</td>\n",
       "      <td>23.000000</td>\n",
       "      <td>38.000000</td>\n",
       "      <td>0.000000</td>\n",
       "      <td>...</td>\n",
       "      <td>0.471377</td>\n",
       "      <td>0.388573</td>\n",
       "      <td>0.480476</td>\n",
       "      <td>0.554751</td>\n",
       "      <td>0.517962</td>\n",
       "      <td>0.435187</td>\n",
       "      <td>0.410841</td>\n",
       "      <td>0.408567</td>\n",
       "      <td>0.446227</td>\n",
       "      <td>0.000000</td>\n",
       "    </tr>\n",
       "    <tr>\n",
       "      <th>75%</th>\n",
       "      <td>225293.250000</td>\n",
       "      <td>10.000000</td>\n",
       "      <td>3.000000</td>\n",
       "      <td>1.000000</td>\n",
       "      <td>5.000000</td>\n",
       "      <td>33.000000</td>\n",
       "      <td>2.000000</td>\n",
       "      <td>35.000000</td>\n",
       "      <td>49.000000</td>\n",
       "      <td>2.000000</td>\n",
       "      <td>...</td>\n",
       "      <td>0.704146</td>\n",
       "      <td>0.645087</td>\n",
       "      <td>0.725755</td>\n",
       "      <td>0.735208</td>\n",
       "      <td>0.607613</td>\n",
       "      <td>0.642035</td>\n",
       "      <td>0.611452</td>\n",
       "      <td>0.587050</td>\n",
       "      <td>0.581691</td>\n",
       "      <td>1.000000</td>\n",
       "    </tr>\n",
       "    <tr>\n",
       "      <th>max</th>\n",
       "      <td>299999.000000</td>\n",
       "      <td>14.000000</td>\n",
       "      <td>18.000000</td>\n",
       "      <td>12.000000</td>\n",
       "      <td>19.000000</td>\n",
       "      <td>83.000000</td>\n",
       "      <td>15.000000</td>\n",
       "      <td>50.000000</td>\n",
       "      <td>60.000000</td>\n",
       "      <td>18.000000</td>\n",
       "      <td>...</td>\n",
       "      <td>1.016600</td>\n",
       "      <td>0.951018</td>\n",
       "      <td>0.856975</td>\n",
       "      <td>0.853022</td>\n",
       "      <td>0.960912</td>\n",
       "      <td>1.035818</td>\n",
       "      <td>1.054257</td>\n",
       "      <td>1.005652</td>\n",
       "      <td>1.011331</td>\n",
       "      <td>1.000000</td>\n",
       "    </tr>\n",
       "  </tbody>\n",
       "</table>\n",
       "<p>8 rows × 23 columns</p>\n",
       "</div>"
      ],
      "text/plain": [
       "                  ID              A              B              C  \\\n",
       "count  180000.000000  180000.000000  180000.000000  180000.000000   \n",
       "mean   150259.572350       8.118989       2.632989       0.617833   \n",
       "std     86591.625009       3.078097       4.147355       1.191218   \n",
       "min         0.000000       0.000000       0.000000       0.000000   \n",
       "25%     75313.750000       7.000000       0.000000       0.000000   \n",
       "50%    150321.000000       8.000000       0.000000       0.000000   \n",
       "75%    225293.250000      10.000000       3.000000       1.000000   \n",
       "max    299999.000000      14.000000      18.000000      12.000000   \n",
       "\n",
       "                   D              E              F              G  \\\n",
       "count  180000.000000  180000.000000  180000.000000  180000.000000   \n",
       "mean        4.802733      29.696178       1.262467      23.543444   \n",
       "std         1.514448      12.700896       2.109440      13.897618   \n",
       "min         0.000000       0.000000       0.000000       0.000000   \n",
       "25%         4.000000      33.000000       0.000000       9.000000   \n",
       "50%         4.000000      33.000000       0.000000      23.000000   \n",
       "75%         5.000000      33.000000       2.000000      35.000000   \n",
       "max        19.000000      83.000000      15.000000      50.000000   \n",
       "\n",
       "                   H              I  ...              M              N  \\\n",
       "count  180000.000000  180000.000000  ...  180000.000000  180000.000000   \n",
       "mean       33.423717       1.605150  ...       0.516286       0.474217   \n",
       "std        18.991241       2.752459  ...       0.214696       0.216486   \n",
       "min         0.000000       0.000000  ...       0.099276      -0.045316   \n",
       "25%        19.000000       0.000000  ...       0.325804       0.291995   \n",
       "50%        38.000000       0.000000  ...       0.471377       0.388573   \n",
       "75%        49.000000       2.000000  ...       0.704146       0.645087   \n",
       "max        60.000000      18.000000  ...       1.016600       0.951018   \n",
       "\n",
       "                   O              P              Q              R  \\\n",
       "count  180000.000000  180000.000000  180000.000000  180000.000000   \n",
       "mean        0.505086       0.501836       0.487837       0.501700   \n",
       "std         0.227391       0.241277       0.211201       0.203394   \n",
       "min         0.169495      -0.033695       0.005199       0.093056   \n",
       "25%         0.279693       0.276133       0.323797       0.353174   \n",
       "50%         0.480476       0.554751       0.517962       0.435187   \n",
       "75%         0.725755       0.735208       0.607613       0.642035   \n",
       "max         0.856975       0.853022       0.960912       1.035818   \n",
       "\n",
       "                   S              T              U       mutation  \n",
       "count  180000.000000  180000.000000  180000.000000  180000.000000  \n",
       "mean        0.487640       0.469766       0.507951       0.264900  \n",
       "std         0.178990       0.194466       0.203378       0.441281  \n",
       "min         0.024139       0.215575       0.097789       0.000000  \n",
       "25%         0.358795       0.310106       0.367429       0.000000  \n",
       "50%         0.410841       0.408567       0.446227       0.000000  \n",
       "75%         0.611452       0.587050       0.581691       1.000000  \n",
       "max         1.054257       1.005652       1.011331       1.000000  \n",
       "\n",
       "[8 rows x 23 columns]"
      ]
     },
     "execution_count": 4,
     "metadata": {},
     "output_type": "execute_result"
    }
   ],
   "source": [
    "train.describe()"
   ]
  },
  {
   "cell_type": "code",
   "execution_count": 5,
   "id": "e065d29a",
   "metadata": {
    "execution": {
     "iopub.execute_input": "2022-05-11T08:55:44.273354Z",
     "iopub.status.busy": "2022-05-11T08:55:44.272553Z",
     "iopub.status.idle": "2022-05-11T08:55:44.448193Z",
     "shell.execute_reply": "2022-05-11T08:55:44.447237Z"
    },
    "papermill": {
     "duration": 0.206035,
     "end_time": "2022-05-11T08:55:44.450349",
     "exception": false,
     "start_time": "2022-05-11T08:55:44.244314",
     "status": "completed"
    },
    "tags": []
   },
   "outputs": [
    {
     "data": {
      "text/html": [
       "<div>\n",
       "<style scoped>\n",
       "    .dataframe tbody tr th:only-of-type {\n",
       "        vertical-align: middle;\n",
       "    }\n",
       "\n",
       "    .dataframe tbody tr th {\n",
       "        vertical-align: top;\n",
       "    }\n",
       "\n",
       "    .dataframe thead th {\n",
       "        text-align: right;\n",
       "    }\n",
       "</style>\n",
       "<table border=\"1\" class=\"dataframe\">\n",
       "  <thead>\n",
       "    <tr style=\"text-align: right;\">\n",
       "      <th></th>\n",
       "      <th>ID</th>\n",
       "      <th>A</th>\n",
       "      <th>B</th>\n",
       "      <th>C</th>\n",
       "      <th>D</th>\n",
       "      <th>E</th>\n",
       "      <th>F</th>\n",
       "      <th>G</th>\n",
       "      <th>H</th>\n",
       "      <th>I</th>\n",
       "      <th>...</th>\n",
       "      <th>L</th>\n",
       "      <th>M</th>\n",
       "      <th>N</th>\n",
       "      <th>O</th>\n",
       "      <th>P</th>\n",
       "      <th>Q</th>\n",
       "      <th>R</th>\n",
       "      <th>S</th>\n",
       "      <th>T</th>\n",
       "      <th>U</th>\n",
       "    </tr>\n",
       "  </thead>\n",
       "  <tbody>\n",
       "    <tr>\n",
       "      <th>count</th>\n",
       "      <td>120000.000000</td>\n",
       "      <td>120000.000000</td>\n",
       "      <td>120000.000000</td>\n",
       "      <td>120000.000000</td>\n",
       "      <td>120000.000000</td>\n",
       "      <td>120000.000000</td>\n",
       "      <td>120000.000000</td>\n",
       "      <td>120000.000000</td>\n",
       "      <td>120000.000000</td>\n",
       "      <td>120000.000000</td>\n",
       "      <td>...</td>\n",
       "      <td>120000.000000</td>\n",
       "      <td>120000.000000</td>\n",
       "      <td>120000.000000</td>\n",
       "      <td>120000.000000</td>\n",
       "      <td>120000.000000</td>\n",
       "      <td>120000.000000</td>\n",
       "      <td>120000.000000</td>\n",
       "      <td>120000.000000</td>\n",
       "      <td>120000.000000</td>\n",
       "      <td>120000.000000</td>\n",
       "    </tr>\n",
       "    <tr>\n",
       "      <th>mean</th>\n",
       "      <td>149609.391475</td>\n",
       "      <td>8.127517</td>\n",
       "      <td>2.616475</td>\n",
       "      <td>0.612867</td>\n",
       "      <td>4.811917</td>\n",
       "      <td>29.675250</td>\n",
       "      <td>1.261375</td>\n",
       "      <td>23.459275</td>\n",
       "      <td>33.394692</td>\n",
       "      <td>1.607508</td>\n",
       "      <td>...</td>\n",
       "      <td>0.494413</td>\n",
       "      <td>0.517149</td>\n",
       "      <td>0.474261</td>\n",
       "      <td>0.504490</td>\n",
       "      <td>0.502889</td>\n",
       "      <td>0.488817</td>\n",
       "      <td>0.501796</td>\n",
       "      <td>0.488725</td>\n",
       "      <td>0.469092</td>\n",
       "      <td>0.508648</td>\n",
       "    </tr>\n",
       "    <tr>\n",
       "      <th>std</th>\n",
       "      <td>86618.168318</td>\n",
       "      <td>3.060814</td>\n",
       "      <td>4.119720</td>\n",
       "      <td>1.173331</td>\n",
       "      <td>1.520519</td>\n",
       "      <td>12.679975</td>\n",
       "      <td>2.123597</td>\n",
       "      <td>13.852400</td>\n",
       "      <td>19.019033</td>\n",
       "      <td>2.770016</td>\n",
       "      <td>...</td>\n",
       "      <td>0.213312</td>\n",
       "      <td>0.215083</td>\n",
       "      <td>0.216861</td>\n",
       "      <td>0.227599</td>\n",
       "      <td>0.241192</td>\n",
       "      <td>0.211534</td>\n",
       "      <td>0.203650</td>\n",
       "      <td>0.179134</td>\n",
       "      <td>0.194591</td>\n",
       "      <td>0.203416</td>\n",
       "    </tr>\n",
       "    <tr>\n",
       "      <th>min</th>\n",
       "      <td>1.000000</td>\n",
       "      <td>0.000000</td>\n",
       "      <td>0.000000</td>\n",
       "      <td>0.000000</td>\n",
       "      <td>0.000000</td>\n",
       "      <td>0.000000</td>\n",
       "      <td>0.000000</td>\n",
       "      <td>0.000000</td>\n",
       "      <td>0.000000</td>\n",
       "      <td>0.000000</td>\n",
       "      <td>...</td>\n",
       "      <td>0.084480</td>\n",
       "      <td>0.094493</td>\n",
       "      <td>-0.031298</td>\n",
       "      <td>0.168071</td>\n",
       "      <td>-0.036379</td>\n",
       "      <td>0.018907</td>\n",
       "      <td>0.090901</td>\n",
       "      <td>0.045832</td>\n",
       "      <td>0.214866</td>\n",
       "      <td>0.126711</td>\n",
       "    </tr>\n",
       "    <tr>\n",
       "      <th>25%</th>\n",
       "      <td>74540.750000</td>\n",
       "      <td>7.000000</td>\n",
       "      <td>0.000000</td>\n",
       "      <td>0.000000</td>\n",
       "      <td>4.000000</td>\n",
       "      <td>33.000000</td>\n",
       "      <td>0.000000</td>\n",
       "      <td>9.000000</td>\n",
       "      <td>19.000000</td>\n",
       "      <td>0.000000</td>\n",
       "      <td>...</td>\n",
       "      <td>0.317640</td>\n",
       "      <td>0.326394</td>\n",
       "      <td>0.292660</td>\n",
       "      <td>0.278682</td>\n",
       "      <td>0.276907</td>\n",
       "      <td>0.324116</td>\n",
       "      <td>0.352900</td>\n",
       "      <td>0.359112</td>\n",
       "      <td>0.309691</td>\n",
       "      <td>0.369417</td>\n",
       "    </tr>\n",
       "    <tr>\n",
       "      <th>50%</th>\n",
       "      <td>149557.500000</td>\n",
       "      <td>8.000000</td>\n",
       "      <td>0.000000</td>\n",
       "      <td>0.000000</td>\n",
       "      <td>4.000000</td>\n",
       "      <td>33.000000</td>\n",
       "      <td>0.000000</td>\n",
       "      <td>23.000000</td>\n",
       "      <td>38.000000</td>\n",
       "      <td>0.000000</td>\n",
       "      <td>...</td>\n",
       "      <td>0.462719</td>\n",
       "      <td>0.471137</td>\n",
       "      <td>0.385824</td>\n",
       "      <td>0.479183</td>\n",
       "      <td>0.554798</td>\n",
       "      <td>0.518270</td>\n",
       "      <td>0.435730</td>\n",
       "      <td>0.411012</td>\n",
       "      <td>0.405421</td>\n",
       "      <td>0.447079</td>\n",
       "    </tr>\n",
       "    <tr>\n",
       "      <th>75%</th>\n",
       "      <td>224504.250000</td>\n",
       "      <td>10.000000</td>\n",
       "      <td>3.000000</td>\n",
       "      <td>1.000000</td>\n",
       "      <td>5.000000</td>\n",
       "      <td>33.000000</td>\n",
       "      <td>2.000000</td>\n",
       "      <td>35.000000</td>\n",
       "      <td>49.000000</td>\n",
       "      <td>2.000000</td>\n",
       "      <td>...</td>\n",
       "      <td>0.695031</td>\n",
       "      <td>0.705315</td>\n",
       "      <td>0.644702</td>\n",
       "      <td>0.725804</td>\n",
       "      <td>0.735256</td>\n",
       "      <td>0.609925</td>\n",
       "      <td>0.641976</td>\n",
       "      <td>0.614888</td>\n",
       "      <td>0.586463</td>\n",
       "      <td>0.582367</td>\n",
       "    </tr>\n",
       "    <tr>\n",
       "      <th>max</th>\n",
       "      <td>299992.000000</td>\n",
       "      <td>14.000000</td>\n",
       "      <td>18.000000</td>\n",
       "      <td>12.000000</td>\n",
       "      <td>19.000000</td>\n",
       "      <td>83.000000</td>\n",
       "      <td>15.000000</td>\n",
       "      <td>50.000000</td>\n",
       "      <td>60.000000</td>\n",
       "      <td>18.000000</td>\n",
       "      <td>...</td>\n",
       "      <td>1.005793</td>\n",
       "      <td>1.005743</td>\n",
       "      <td>0.952187</td>\n",
       "      <td>0.858578</td>\n",
       "      <td>0.846413</td>\n",
       "      <td>0.966553</td>\n",
       "      <td>1.027458</td>\n",
       "      <td>1.055885</td>\n",
       "      <td>1.005392</td>\n",
       "      <td>1.006479</td>\n",
       "    </tr>\n",
       "  </tbody>\n",
       "</table>\n",
       "<p>8 rows × 22 columns</p>\n",
       "</div>"
      ],
      "text/plain": [
       "                  ID              A              B              C  \\\n",
       "count  120000.000000  120000.000000  120000.000000  120000.000000   \n",
       "mean   149609.391475       8.127517       2.616475       0.612867   \n",
       "std     86618.168318       3.060814       4.119720       1.173331   \n",
       "min         1.000000       0.000000       0.000000       0.000000   \n",
       "25%     74540.750000       7.000000       0.000000       0.000000   \n",
       "50%    149557.500000       8.000000       0.000000       0.000000   \n",
       "75%    224504.250000      10.000000       3.000000       1.000000   \n",
       "max    299992.000000      14.000000      18.000000      12.000000   \n",
       "\n",
       "                   D              E              F              G  \\\n",
       "count  120000.000000  120000.000000  120000.000000  120000.000000   \n",
       "mean        4.811917      29.675250       1.261375      23.459275   \n",
       "std         1.520519      12.679975       2.123597      13.852400   \n",
       "min         0.000000       0.000000       0.000000       0.000000   \n",
       "25%         4.000000      33.000000       0.000000       9.000000   \n",
       "50%         4.000000      33.000000       0.000000      23.000000   \n",
       "75%         5.000000      33.000000       2.000000      35.000000   \n",
       "max        19.000000      83.000000      15.000000      50.000000   \n",
       "\n",
       "                   H              I  ...              L              M  \\\n",
       "count  120000.000000  120000.000000  ...  120000.000000  120000.000000   \n",
       "mean       33.394692       1.607508  ...       0.494413       0.517149   \n",
       "std        19.019033       2.770016  ...       0.213312       0.215083   \n",
       "min         0.000000       0.000000  ...       0.084480       0.094493   \n",
       "25%        19.000000       0.000000  ...       0.317640       0.326394   \n",
       "50%        38.000000       0.000000  ...       0.462719       0.471137   \n",
       "75%        49.000000       2.000000  ...       0.695031       0.705315   \n",
       "max        60.000000      18.000000  ...       1.005793       1.005743   \n",
       "\n",
       "                   N              O              P              Q  \\\n",
       "count  120000.000000  120000.000000  120000.000000  120000.000000   \n",
       "mean        0.474261       0.504490       0.502889       0.488817   \n",
       "std         0.216861       0.227599       0.241192       0.211534   \n",
       "min        -0.031298       0.168071      -0.036379       0.018907   \n",
       "25%         0.292660       0.278682       0.276907       0.324116   \n",
       "50%         0.385824       0.479183       0.554798       0.518270   \n",
       "75%         0.644702       0.725804       0.735256       0.609925   \n",
       "max         0.952187       0.858578       0.846413       0.966553   \n",
       "\n",
       "                   R              S              T              U  \n",
       "count  120000.000000  120000.000000  120000.000000  120000.000000  \n",
       "mean        0.501796       0.488725       0.469092       0.508648  \n",
       "std         0.203650       0.179134       0.194591       0.203416  \n",
       "min         0.090901       0.045832       0.214866       0.126711  \n",
       "25%         0.352900       0.359112       0.309691       0.369417  \n",
       "50%         0.435730       0.411012       0.405421       0.447079  \n",
       "75%         0.641976       0.614888       0.586463       0.582367  \n",
       "max         1.027458       1.055885       1.005392       1.006479  \n",
       "\n",
       "[8 rows x 22 columns]"
      ]
     },
     "execution_count": 5,
     "metadata": {},
     "output_type": "execute_result"
    }
   ],
   "source": [
    "test.describe()"
   ]
  },
  {
   "cell_type": "markdown",
   "id": "f4542b3d",
   "metadata": {
    "papermill": {
     "duration": 0.030976,
     "end_time": "2022-05-11T08:55:44.510506",
     "exception": false,
     "start_time": "2022-05-11T08:55:44.479530",
     "status": "completed"
    },
    "tags": []
   },
   "source": [
    "- Data info"
   ]
  },
  {
   "cell_type": "code",
   "execution_count": 6,
   "id": "c1a6de4b",
   "metadata": {
    "execution": {
     "iopub.execute_input": "2022-05-11T08:55:44.574607Z",
     "iopub.status.busy": "2022-05-11T08:55:44.573806Z",
     "iopub.status.idle": "2022-05-11T08:55:44.670026Z",
     "shell.execute_reply": "2022-05-11T08:55:44.669253Z"
    },
    "papermill": {
     "duration": 0.133179,
     "end_time": "2022-05-11T08:55:44.672330",
     "exception": false,
     "start_time": "2022-05-11T08:55:44.539151",
     "status": "completed"
    },
    "tags": []
   },
   "outputs": [
    {
     "name": "stdout",
     "output_type": "stream",
     "text": [
      "<class 'pandas.core.frame.DataFrame'>\n",
      "RangeIndex: 180000 entries, 0 to 179999\n",
      "Data columns (total 32 columns):\n",
      " #   Column     Non-Null Count   Dtype  \n",
      "---  ------     --------------   -----  \n",
      " 0   ID         180000 non-null  int64  \n",
      " 1   sequence1  180000 non-null  object \n",
      " 2   sequence2  180000 non-null  object \n",
      " 3   sequence3  180000 non-null  object \n",
      " 4   sequence4  180000 non-null  object \n",
      " 5   sequence5  180000 non-null  object \n",
      " 6   sequence6  180000 non-null  object \n",
      " 7   sequence7  180000 non-null  object \n",
      " 8   sequence8  180000 non-null  object \n",
      " 9   sequence9  180000 non-null  object \n",
      " 10  A          180000 non-null  int64  \n",
      " 11  B          180000 non-null  int64  \n",
      " 12  C          180000 non-null  int64  \n",
      " 13  D          180000 non-null  int64  \n",
      " 14  E          180000 non-null  int64  \n",
      " 15  F          180000 non-null  int64  \n",
      " 16  G          180000 non-null  int64  \n",
      " 17  H          180000 non-null  int64  \n",
      " 18  I          180000 non-null  int64  \n",
      " 19  J          180000 non-null  int64  \n",
      " 20  K          180000 non-null  float64\n",
      " 21  L          180000 non-null  float64\n",
      " 22  M          180000 non-null  float64\n",
      " 23  N          180000 non-null  float64\n",
      " 24  O          180000 non-null  float64\n",
      " 25  P          180000 non-null  float64\n",
      " 26  Q          180000 non-null  float64\n",
      " 27  R          180000 non-null  float64\n",
      " 28  S          180000 non-null  float64\n",
      " 29  T          180000 non-null  float64\n",
      " 30  U          180000 non-null  float64\n",
      " 31  mutation   180000 non-null  int64  \n",
      "dtypes: float64(11), int64(12), object(9)\n",
      "memory usage: 43.9+ MB\n"
     ]
    }
   ],
   "source": [
    "train.info()"
   ]
  },
  {
   "cell_type": "code",
   "execution_count": 7,
   "id": "190bc1ab",
   "metadata": {
    "execution": {
     "iopub.execute_input": "2022-05-11T08:55:44.731039Z",
     "iopub.status.busy": "2022-05-11T08:55:44.730684Z",
     "iopub.status.idle": "2022-05-11T08:55:44.796306Z",
     "shell.execute_reply": "2022-05-11T08:55:44.795394Z"
    },
    "papermill": {
     "duration": 0.097748,
     "end_time": "2022-05-11T08:55:44.798804",
     "exception": false,
     "start_time": "2022-05-11T08:55:44.701056",
     "status": "completed"
    },
    "tags": []
   },
   "outputs": [
    {
     "name": "stdout",
     "output_type": "stream",
     "text": [
      "<class 'pandas.core.frame.DataFrame'>\n",
      "RangeIndex: 120000 entries, 0 to 119999\n",
      "Data columns (total 31 columns):\n",
      " #   Column     Non-Null Count   Dtype  \n",
      "---  ------     --------------   -----  \n",
      " 0   ID         120000 non-null  int64  \n",
      " 1   sequence1  120000 non-null  object \n",
      " 2   sequence2  120000 non-null  object \n",
      " 3   sequence3  120000 non-null  object \n",
      " 4   sequence4  120000 non-null  object \n",
      " 5   sequence5  120000 non-null  object \n",
      " 6   sequence6  120000 non-null  object \n",
      " 7   sequence7  120000 non-null  object \n",
      " 8   sequence8  120000 non-null  object \n",
      " 9   sequence9  120000 non-null  object \n",
      " 10  A          120000 non-null  int64  \n",
      " 11  B          120000 non-null  int64  \n",
      " 12  C          120000 non-null  int64  \n",
      " 13  D          120000 non-null  int64  \n",
      " 14  E          120000 non-null  int64  \n",
      " 15  F          120000 non-null  int64  \n",
      " 16  G          120000 non-null  int64  \n",
      " 17  H          120000 non-null  int64  \n",
      " 18  I          120000 non-null  int64  \n",
      " 19  J          120000 non-null  int64  \n",
      " 20  K          120000 non-null  float64\n",
      " 21  L          120000 non-null  float64\n",
      " 22  M          120000 non-null  float64\n",
      " 23  N          120000 non-null  float64\n",
      " 24  O          120000 non-null  float64\n",
      " 25  P          120000 non-null  float64\n",
      " 26  Q          120000 non-null  float64\n",
      " 27  R          120000 non-null  float64\n",
      " 28  S          120000 non-null  float64\n",
      " 29  T          120000 non-null  float64\n",
      " 30  U          120000 non-null  float64\n",
      "dtypes: float64(11), int64(11), object(9)\n",
      "memory usage: 28.4+ MB\n"
     ]
    }
   ],
   "source": [
    "test.info()"
   ]
  },
  {
   "cell_type": "markdown",
   "id": "fa40ec5b",
   "metadata": {
    "papermill": {
     "duration": 0.028146,
     "end_time": "2022-05-11T08:55:44.855338",
     "exception": false,
     "start_time": "2022-05-11T08:55:44.827192",
     "status": "completed"
    },
    "tags": []
   },
   "source": [
    "- Check missing values"
   ]
  },
  {
   "cell_type": "code",
   "execution_count": 8,
   "id": "79f1c52b",
   "metadata": {
    "execution": {
     "iopub.execute_input": "2022-05-11T08:55:44.915654Z",
     "iopub.status.busy": "2022-05-11T08:55:44.915027Z",
     "iopub.status.idle": "2022-05-11T08:55:44.998310Z",
     "shell.execute_reply": "2022-05-11T08:55:44.997455Z"
    },
    "papermill": {
     "duration": 0.115914,
     "end_time": "2022-05-11T08:55:45.000739",
     "exception": false,
     "start_time": "2022-05-11T08:55:44.884825",
     "status": "completed"
    },
    "tags": []
   },
   "outputs": [
    {
     "data": {
      "text/plain": [
       "False"
      ]
     },
     "execution_count": 8,
     "metadata": {},
     "output_type": "execute_result"
    }
   ],
   "source": [
    "train.isnull().sum().any()"
   ]
  },
  {
   "cell_type": "code",
   "execution_count": 9,
   "id": "91640110",
   "metadata": {
    "execution": {
     "iopub.execute_input": "2022-05-11T08:55:45.058888Z",
     "iopub.status.busy": "2022-05-11T08:55:45.058557Z",
     "iopub.status.idle": "2022-05-11T08:55:45.117141Z",
     "shell.execute_reply": "2022-05-11T08:55:45.116245Z"
    },
    "papermill": {
     "duration": 0.090065,
     "end_time": "2022-05-11T08:55:45.119097",
     "exception": false,
     "start_time": "2022-05-11T08:55:45.029032",
     "status": "completed"
    },
    "tags": []
   },
   "outputs": [
    {
     "data": {
      "text/plain": [
       "False"
      ]
     },
     "execution_count": 9,
     "metadata": {},
     "output_type": "execute_result"
    }
   ],
   "source": [
    "test.isnull().sum().any()"
   ]
  },
  {
   "cell_type": "markdown",
   "id": "92590c15",
   "metadata": {
    "papermill": {
     "duration": 0.029135,
     "end_time": "2022-05-11T08:55:45.178405",
     "exception": false,
     "start_time": "2022-05-11T08:55:45.149270",
     "status": "completed"
    },
    "tags": []
   },
   "source": [
    "- Feature correlation"
   ]
  },
  {
   "cell_type": "code",
   "execution_count": 10,
   "id": "ea02ebd6",
   "metadata": {
    "execution": {
     "iopub.execute_input": "2022-05-11T08:55:45.239033Z",
     "iopub.status.busy": "2022-05-11T08:55:45.238088Z",
     "iopub.status.idle": "2022-05-11T08:55:45.242092Z",
     "shell.execute_reply": "2022-05-11T08:55:45.241488Z"
    },
    "papermill": {
     "duration": 0.036125,
     "end_time": "2022-05-11T08:55:45.243934",
     "exception": false,
     "start_time": "2022-05-11T08:55:45.207809",
     "status": "completed"
    },
    "tags": []
   },
   "outputs": [],
   "source": [
    "#train.corr"
   ]
  },
  {
   "cell_type": "markdown",
   "id": "ebbf852a",
   "metadata": {
    "papermill": {
     "duration": 0.027987,
     "end_time": "2022-05-11T08:55:45.300635",
     "exception": false,
     "start_time": "2022-05-11T08:55:45.272648",
     "status": "completed"
    },
    "tags": []
   },
   "source": [
    "# Label encode"
   ]
  },
  {
   "cell_type": "markdown",
   "id": "be92fe54",
   "metadata": {
    "papermill": {
     "duration": 0.028193,
     "end_time": "2022-05-11T08:55:45.357254",
     "exception": false,
     "start_time": "2022-05-11T08:55:45.329061",
     "status": "completed"
    },
    "tags": []
   },
   "source": [
    "We are going to encode objects columns"
   ]
  },
  {
   "cell_type": "code",
   "execution_count": 11,
   "id": "8c5e6578",
   "metadata": {
    "execution": {
     "iopub.execute_input": "2022-05-11T08:55:45.416675Z",
     "iopub.status.busy": "2022-05-11T08:55:45.415777Z",
     "iopub.status.idle": "2022-05-11T08:55:45.420027Z",
     "shell.execute_reply": "2022-05-11T08:55:45.419377Z"
    },
    "papermill": {
     "duration": 0.036351,
     "end_time": "2022-05-11T08:55:45.421989",
     "exception": false,
     "start_time": "2022-05-11T08:55:45.385638",
     "status": "completed"
    },
    "tags": []
   },
   "outputs": [],
   "source": [
    "from sklearn.preprocessing import LabelEncoder\n",
    "le = LabelEncoder()"
   ]
  },
  {
   "cell_type": "markdown",
   "id": "9c21b15a",
   "metadata": {
    "papermill": {
     "duration": 0.028164,
     "end_time": "2022-05-11T08:55:45.478955",
     "exception": false,
     "start_time": "2022-05-11T08:55:45.450791",
     "status": "completed"
    },
    "tags": []
   },
   "source": [
    "Object columns selection"
   ]
  },
  {
   "cell_type": "code",
   "execution_count": 12,
   "id": "4127e3fa",
   "metadata": {
    "execution": {
     "iopub.execute_input": "2022-05-11T08:55:45.537600Z",
     "iopub.status.busy": "2022-05-11T08:55:45.537257Z",
     "iopub.status.idle": "2022-05-11T08:55:45.543825Z",
     "shell.execute_reply": "2022-05-11T08:55:45.543208Z"
    },
    "papermill": {
     "duration": 0.038051,
     "end_time": "2022-05-11T08:55:45.545644",
     "exception": false,
     "start_time": "2022-05-11T08:55:45.507593",
     "status": "completed"
    },
    "tags": []
   },
   "outputs": [
    {
     "data": {
      "text/plain": [
       "['sequence1',\n",
       " 'sequence2',\n",
       " 'sequence3',\n",
       " 'sequence4',\n",
       " 'sequence5',\n",
       " 'sequence6',\n",
       " 'sequence7',\n",
       " 'sequence8',\n",
       " 'sequence9']"
      ]
     },
     "execution_count": 12,
     "metadata": {},
     "output_type": "execute_result"
    }
   ],
   "source": [
    "obj_cols = [col for col in train.columns if train[col].dtype == 'object']\n",
    "obj_cols"
   ]
  },
  {
   "cell_type": "markdown",
   "id": "e1119562",
   "metadata": {
    "papermill": {
     "duration": 0.028513,
     "end_time": "2022-05-11T08:55:45.604192",
     "exception": false,
     "start_time": "2022-05-11T08:55:45.575679",
     "status": "completed"
    },
    "tags": []
   },
   "source": [
    "Encoding label"
   ]
  },
  {
   "cell_type": "code",
   "execution_count": 13,
   "id": "b4c1dced",
   "metadata": {
    "execution": {
     "iopub.execute_input": "2022-05-11T08:55:45.663946Z",
     "iopub.status.busy": "2022-05-11T08:55:45.663401Z",
     "iopub.status.idle": "2022-05-11T08:55:46.256659Z",
     "shell.execute_reply": "2022-05-11T08:55:46.255897Z"
    },
    "papermill": {
     "duration": 0.626271,
     "end_time": "2022-05-11T08:55:46.259202",
     "exception": false,
     "start_time": "2022-05-11T08:55:45.632931",
     "status": "completed"
    },
    "tags": []
   },
   "outputs": [],
   "source": [
    "for col in obj_cols:\n",
    "    train[col] = le.fit_transform(train[col])\n",
    "    test[col] = le.transform(test[col])"
   ]
  },
  {
   "cell_type": "markdown",
   "id": "a69ddb31",
   "metadata": {
    "papermill": {
     "duration": 0.029574,
     "end_time": "2022-05-11T08:55:46.319442",
     "exception": false,
     "start_time": "2022-05-11T08:55:46.289868",
     "status": "completed"
    },
    "tags": []
   },
   "source": [
    "# Split Data"
   ]
  },
  {
   "cell_type": "code",
   "execution_count": 14,
   "id": "9fb87888",
   "metadata": {
    "execution": {
     "iopub.execute_input": "2022-05-11T08:55:46.379536Z",
     "iopub.status.busy": "2022-05-11T08:55:46.378997Z",
     "iopub.status.idle": "2022-05-11T08:55:46.484943Z",
     "shell.execute_reply": "2022-05-11T08:55:46.484046Z"
    },
    "papermill": {
     "duration": 0.138585,
     "end_time": "2022-05-11T08:55:46.486986",
     "exception": false,
     "start_time": "2022-05-11T08:55:46.348401",
     "status": "completed"
    },
    "tags": []
   },
   "outputs": [
    {
     "data": {
      "text/plain": [
       "((180000, 30), (120000, 30))"
      ]
     },
     "execution_count": 14,
     "metadata": {},
     "output_type": "execute_result"
    }
   ],
   "source": [
    "# training Data\n",
    "X = train.drop(['ID','mutation'], axis=1)\n",
    "y = train['mutation']\n",
    "\n",
    "# Test data\n",
    "test = test.drop(['ID'], axis=1)\n",
    "\n",
    "X.shape, test.shape"
   ]
  },
  {
   "cell_type": "code",
   "execution_count": 15,
   "id": "5320c1aa",
   "metadata": {
    "execution": {
     "iopub.execute_input": "2022-05-11T08:55:46.548244Z",
     "iopub.status.busy": "2022-05-11T08:55:46.547890Z",
     "iopub.status.idle": "2022-05-11T08:55:46.554510Z",
     "shell.execute_reply": "2022-05-11T08:55:46.553518Z"
    },
    "papermill": {
     "duration": 0.039226,
     "end_time": "2022-05-11T08:55:46.556374",
     "exception": false,
     "start_time": "2022-05-11T08:55:46.517148",
     "status": "completed"
    },
    "tags": []
   },
   "outputs": [
    {
     "data": {
      "text/plain": [
       "['sequence1',\n",
       " 'sequence2',\n",
       " 'sequence3',\n",
       " 'sequence4',\n",
       " 'sequence5',\n",
       " 'sequence6',\n",
       " 'sequence7',\n",
       " 'sequence8',\n",
       " 'sequence9',\n",
       " 'A',\n",
       " 'B',\n",
       " 'C',\n",
       " 'D',\n",
       " 'E',\n",
       " 'F',\n",
       " 'G',\n",
       " 'H',\n",
       " 'I',\n",
       " 'J',\n",
       " 'K',\n",
       " 'L',\n",
       " 'M',\n",
       " 'N',\n",
       " 'O',\n",
       " 'P',\n",
       " 'Q',\n",
       " 'R',\n",
       " 'S',\n",
       " 'T',\n",
       " 'U']"
      ]
     },
     "execution_count": 15,
     "metadata": {},
     "output_type": "execute_result"
    }
   ],
   "source": [
    "features = X.columns.tolist()\n",
    "features"
   ]
  },
  {
   "cell_type": "markdown",
   "id": "dfad2737",
   "metadata": {
    "papermill": {
     "duration": 0.02987,
     "end_time": "2022-05-11T08:55:46.618208",
     "exception": false,
     "start_time": "2022-05-11T08:55:46.588338",
     "status": "completed"
    },
    "tags": []
   },
   "source": [
    "# Modeling with Keras"
   ]
  },
  {
   "cell_type": "code",
   "execution_count": 16,
   "id": "89aeab42",
   "metadata": {
    "execution": {
     "iopub.execute_input": "2022-05-11T08:55:46.700714Z",
     "iopub.status.busy": "2022-05-11T08:55:46.699885Z",
     "iopub.status.idle": "2022-05-11T08:55:46.710121Z",
     "shell.execute_reply": "2022-05-11T08:55:46.708982Z"
    },
    "papermill": {
     "duration": 0.057627,
     "end_time": "2022-05-11T08:55:46.712523",
     "exception": false,
     "start_time": "2022-05-11T08:55:46.654896",
     "status": "completed"
    },
    "tags": []
   },
   "outputs": [],
   "source": [
    "def my_model():\n",
    "    \"\"\"Simple sequential neural network with four hidden layers.\n",
    "    \n",
    "    Returns a (not yet compiled) instance of tensorflow.keras.models.Model.\n",
    "    \"\"\"\n",
    "    activation = 'swish'\n",
    "    inputs = Input(shape=(len(features)))\n",
    "    x = Dense(128, kernel_regularizer=tf.keras.regularizers.l2(40e-6),\n",
    "              activation=activation,\n",
    "             )(inputs)\n",
    "    x = Dense(64, kernel_regularizer=tf.keras.regularizers.l2(40e-6),\n",
    "              activation=activation,\n",
    "             )(x)\n",
    "    x = Dense(64, kernel_regularizer=tf.keras.regularizers.l2(40e-6),\n",
    "              activation=activation,\n",
    "             )(x)\n",
    "    x = Dense(16, kernel_regularizer=tf.keras.regularizers.l2(40e-6),\n",
    "              activation=activation,\n",
    "             )(x)\n",
    "    x = Dense(1, #kernel_regularizer=tf.keras.regularizers.l2(1e-6),\n",
    "              activation='sigmoid',\n",
    "             )(x)\n",
    "    model = Model(inputs, x)\n",
    "    return model"
   ]
  },
  {
   "cell_type": "code",
   "execution_count": 17,
   "id": "3498ff5a",
   "metadata": {
    "execution": {
     "iopub.execute_input": "2022-05-11T08:55:46.781701Z",
     "iopub.status.busy": "2022-05-11T08:55:46.780987Z",
     "iopub.status.idle": "2022-05-11T08:55:46.793917Z",
     "shell.execute_reply": "2022-05-11T08:55:46.793187Z"
    },
    "papermill": {
     "duration": 0.047533,
     "end_time": "2022-05-11T08:55:46.796634",
     "exception": false,
     "start_time": "2022-05-11T08:55:46.749101",
     "status": "completed"
    },
    "tags": []
   },
   "outputs": [],
   "source": [
    "# Plot training history\n",
    "def plot_history(history, *, n_epochs=None, plot_lr=False, title=None, bottom=None, top=None):\n",
    "    \"\"\"Plot (the last n_epochs epochs of) the training history\n",
    "    \n",
    "    Plots loss and optionally val_loss and lr.\"\"\"\n",
    "    plt.figure(figsize=(15, 6))\n",
    "    from_epoch = 0 if n_epochs is None else max(len(history['loss']) - n_epochs, 0)\n",
    "    \n",
    "    # Plot training and validation losses\n",
    "    plt.plot(np.arange(from_epoch, len(history['loss'])), history['loss'][from_epoch:], label='Training loss')\n",
    "    try:\n",
    "        plt.plot(np.arange(from_epoch, len(history['loss'])), history['val_loss'][from_epoch:], label='Validation loss')\n",
    "        best_epoch = np.argmin(np.array(history['val_loss']))\n",
    "        best_val_loss = history['val_loss'][best_epoch]\n",
    "        if best_epoch >= from_epoch:\n",
    "            plt.scatter([best_epoch], [best_val_loss], c='r', label=f'Best val_loss = {best_val_loss:.5f}')\n",
    "        if best_epoch > 0:\n",
    "            almost_epoch = np.argmin(np.array(history['val_loss'])[:best_epoch])\n",
    "            almost_val_loss = history['val_loss'][almost_epoch]\n",
    "            if almost_epoch >= from_epoch:\n",
    "                plt.scatter([almost_epoch], [almost_val_loss], c='orange', label='Second best val_loss')\n",
    "    except KeyError:\n",
    "        pass\n",
    "    if bottom is not None: plt.ylim(bottom=bottom)\n",
    "    if top is not None: plt.ylim(top=top)\n",
    "    plt.gca().xaxis.set_major_locator(MaxNLocator(integer=True))\n",
    "    plt.xlabel('Epoch')\n",
    "    plt.ylabel('Loss')\n",
    "    plt.legend(loc='lower left')\n",
    "    if title is not None: plt.title(title)\n",
    "        \n",
    "    # Plot learning rate\n",
    "    if plot_lr and 'lr' in history:\n",
    "        ax2 = plt.gca().twinx()\n",
    "        ax2.plot(np.arange(from_epoch, len(history['lr'])), np.array(history['lr'][from_epoch:]), color='g', label='Learning rate')\n",
    "        ax2.set_ylabel('Learning rate')\n",
    "        ax2.legend(loc='upper right')\n",
    "        \n",
    "    plt.show()"
   ]
  },
  {
   "cell_type": "markdown",
   "id": "b5b1f763",
   "metadata": {
    "papermill": {
     "duration": 0.029447,
     "end_time": "2022-05-11T08:55:46.869745",
     "exception": false,
     "start_time": "2022-05-11T08:55:46.840298",
     "status": "completed"
    },
    "tags": []
   },
   "source": [
    "# Cross validation"
   ]
  },
  {
   "cell_type": "code",
   "execution_count": 18,
   "id": "fb738268",
   "metadata": {
    "execution": {
     "iopub.execute_input": "2022-05-11T08:55:46.934144Z",
     "iopub.status.busy": "2022-05-11T08:55:46.933360Z",
     "iopub.status.idle": "2022-05-11T08:55:46.939629Z",
     "shell.execute_reply": "2022-05-11T08:55:46.938672Z"
    },
    "papermill": {
     "duration": 0.04244,
     "end_time": "2022-05-11T08:55:46.941964",
     "exception": false,
     "start_time": "2022-05-11T08:55:46.899524",
     "status": "completed"
    },
    "tags": []
   },
   "outputs": [],
   "source": [
    "from sklearn.metrics import roc_auc_score\n"
   ]
  },
  {
   "cell_type": "code",
   "execution_count": 19,
   "id": "d84d43b4",
   "metadata": {
    "execution": {
     "iopub.execute_input": "2022-05-11T08:55:47.007358Z",
     "iopub.status.busy": "2022-05-11T08:55:47.006623Z",
     "iopub.status.idle": "2022-05-11T08:55:47.019879Z",
     "shell.execute_reply": "2022-05-11T08:55:47.018695Z"
    },
    "papermill": {
     "duration": 0.049794,
     "end_time": "2022-05-11T08:55:47.022086",
     "exception": false,
     "start_time": "2022-05-11T08:55:46.972292",
     "status": "completed"
    },
    "tags": []
   },
   "outputs": [
    {
     "name": "stdout",
     "output_type": "stream",
     "text": [
      "CPU times: user 124 µs, sys: 0 ns, total: 124 µs\n",
      "Wall time: 129 µs\n"
     ]
    }
   ],
   "source": [
    "%%time\n",
    "# Cross-validation of the classifier\n",
    "\n",
    "EPOCHS = 200\n",
    "EPOCHS_COSINEDECAY = 150\n",
    "CYCLES = 1\n",
    "VERBOSE = 0 # set to 0 for less output, or to 2 for more output\n",
    "DIAGRAMS = True\n",
    "USE_PLATEAU = True\n",
    "BATCH_SIZE = 512\n",
    "ONLY_FIRST_FOLD = False\n",
    "\n",
    "# see https://keras.io/getting_started/faq/#how-can-i-obtain-reproducible-results-using-keras-during-development\n",
    "np.random.seed(1)\n",
    "random.seed(1)\n",
    "tf.random.set_seed(1)\n",
    "\n",
    "def fit_model(X_tr, y_tr, X_va=None, y_va=None, run=0):\n",
    "    \"\"\"Scale the data, fit a model, plot the training history and optionally validate the model\n",
    "    \n",
    "    Returns a trained instance of tensorflow.keras.models.Model.\n",
    "    \n",
    "    As a side effect, updates y_va_pred, history_list and score_list.\n",
    "    \"\"\"\n",
    "    global y_va_pred\n",
    "    start_time = datetime.datetime.now()\n",
    "    \n",
    "    scaler = StandardScaler()\n",
    "    X_tr = scaler.fit_transform(X_tr)\n",
    "    \n",
    "    if X_va is not None:\n",
    "        X_va = scaler.transform(X_va)\n",
    "        validation_data = (X_va, y_va)\n",
    "    else:\n",
    "        validation_data = None\n",
    "\n",
    "    # Define the learning rate schedule and EarlyStopping\n",
    "    lr_start=0.01\n",
    "    #if USE_PLATEAU and X_va is not None: # use early stopping\n",
    "    epochs = EPOCHS\n",
    "    lr = ReduceLROnPlateau(monitor=\"val_loss\", factor=0.7, \n",
    "                           patience=4, verbose=VERBOSE)\n",
    "    es = EarlyStopping(monitor=\"val_loss\",\n",
    "                       patience=12, \n",
    "                       verbose=1,\n",
    "                       mode=\"min\", \n",
    "                       restore_best_weights=True)\n",
    "    callbacks = [lr, es, tf.keras.callbacks.TerminateOnNaN()]\n",
    "\n",
    "        \n",
    "    # Construct and compile the model\n",
    "    model = my_model()\n",
    "    model.compile(optimizer=tf.keras.optimizers.Adam(learning_rate=lr_start),\n",
    "                  metrics='AUC',\n",
    "                  loss=tf.keras.losses.BinaryCrossentropy())\n",
    "\n",
    "    # Train the model\n",
    "    history = model.fit(X_tr, y_tr, \n",
    "                        validation_data=validation_data, \n",
    "                        epochs=epochs,\n",
    "                        verbose=VERBOSE,\n",
    "                        batch_size=BATCH_SIZE,\n",
    "                        shuffle=True,\n",
    "                        callbacks=callbacks)\n",
    "\n",
    "    history_list.append(history.history)\n",
    "    callbacks, es, lr, history = None, None, None, None\n",
    "    \n",
    "    if X_va is None:\n",
    "        print(f\"Training loss: {history_list[-1]['loss'][-1]:.4f}\")\n",
    "    else:\n",
    "        lastloss = f\"Training loss: {history_list[-1]['loss'][-1]:.4f} | Val loss: {history_list[-1]['val_loss'][-1]:.4f}\"\n",
    "        \n",
    "        # Inference for validation\n",
    "        y_va_pred = model.predict(X_va, batch_size=len(X_va), verbose=0)\n",
    "        #oof_list[run][val_idx] = y_va_pred\n",
    "        \n",
    "        # Evaluation: Execution time, loss and AUC\n",
    "        score = roc_auc_score(y_va, y_va_pred)\n",
    "        print(f\"Fold {run}.{fold} | {str(datetime.datetime.now() - start_time)[-12:-7]}\"\n",
    "              f\" | {lastloss} | AUC: {score:.5f}\")\n",
    "        score_list.append(score)\n",
    "        \n",
    "        if DIAGRAMS and fold == 0 and run == 0:\n",
    "            # Plot training history\n",
    "            plot_history(history_list[-1], \n",
    "                         title=f\"Learning curve (validation AUC = {score:.5f})\",\n",
    "                         plot_lr=True)\n",
    "\n",
    "            # Plot y_true vs. y_pred\n",
    "            plt.figure(figsize=(10, 4))\n",
    "            plt.hist(y_va_pred[y_va == 0], bins=np.linspace(0, 1, 21),\n",
    "                     alpha=0.5, density=True)\n",
    "            plt.hist(y_va_pred[y_va == 1], bins=np.linspace(0, 1, 21),\n",
    "                     alpha=0.5, density=True)\n",
    "            plt.xlabel('y_pred')\n",
    "            plt.ylabel('density')\n",
    "            plt.title('OOF Predictions')\n",
    "            plt.show()\n",
    "\n",
    "    return model, scaler\n",
    "\n"
   ]
  },
  {
   "cell_type": "code",
   "execution_count": 20,
   "id": "c0f94f6e",
   "metadata": {
    "execution": {
     "iopub.execute_input": "2022-05-11T08:55:47.088765Z",
     "iopub.status.busy": "2022-05-11T08:55:47.087984Z",
     "iopub.status.idle": "2022-05-11T08:55:47.096463Z",
     "shell.execute_reply": "2022-05-11T08:55:47.095329Z"
    },
    "papermill": {
     "duration": 0.043267,
     "end_time": "2022-05-11T08:55:47.098496",
     "exception": false,
     "start_time": "2022-05-11T08:55:47.055229",
     "status": "completed"
    },
    "tags": []
   },
   "outputs": [
    {
     "data": {
      "text/plain": [
       "'\\nfor fold, (idx_tr, idx_va) in enumerate(kf.split(train)):\\n    X_tr = train.iloc[idx_tr][features]\\n    X_va = train.iloc[idx_va][features]\\n    y_tr = train.iloc[idx_tr].mutation\\n    y_va = train.iloc[idx_va][\\'mutation\\']\\n    \\n    fit_model(X_tr, y_tr, X_va, y_va)\\n    if ONLY_FIRST_FOLD: break # we only need the first fold\\n\\nprint(f\"OOF AUC:                       {np.mean(score_list):.5f}\")\\n# Fold 0.0 | 03:57 | Training loss: 0.3497 | Val loss: 0.3842 | AUC: 0.87392\\n\\n# Fold 0.0 | 00:59 | Training loss: 0.3649 | Val loss: 0.3730 | AUC: 0.87974\\n\\n# Fold 0.0 | 00:42 | Training loss: 0.3586 | Val loss: 0.3754 | AUC: 0.88020\\n'"
      ]
     },
     "execution_count": 20,
     "metadata": {},
     "output_type": "execute_result"
    }
   ],
   "source": [
    "history_list = []\n",
    "score_list = []\n",
    "kf = KFold(n_splits=3)\n",
    "\"\"\"\n",
    "for fold, (idx_tr, idx_va) in enumerate(kf.split(train)):\n",
    "    X_tr = train.iloc[idx_tr][features]\n",
    "    X_va = train.iloc[idx_va][features]\n",
    "    y_tr = train.iloc[idx_tr].mutation\n",
    "    y_va = train.iloc[idx_va]['mutation']\n",
    "    \n",
    "    fit_model(X_tr, y_tr, X_va, y_va)\n",
    "    if ONLY_FIRST_FOLD: break # we only need the first fold\n",
    "\n",
    "print(f\"OOF AUC:                       {np.mean(score_list):.5f}\")\n",
    "# Fold 0.0 | 03:57 | Training loss: 0.3497 | Val loss: 0.3842 | AUC: 0.87392\n",
    "\n",
    "# Fold 0.0 | 00:59 | Training loss: 0.3649 | Val loss: 0.3730 | AUC: 0.87974\n",
    "\n",
    "# Fold 0.0 | 00:42 | Training loss: 0.3586 | Val loss: 0.3754 | AUC: 0.88020\n",
    "\"\"\""
   ]
  },
  {
   "cell_type": "markdown",
   "id": "ed10890d",
   "metadata": {
    "papermill": {
     "duration": 0.032936,
     "end_time": "2022-05-11T08:55:47.163516",
     "exception": false,
     "start_time": "2022-05-11T08:55:47.130580",
     "status": "completed"
    },
    "tags": []
   },
   "source": [
    "# Test prediction"
   ]
  },
  {
   "cell_type": "code",
   "execution_count": 21,
   "id": "b408617b",
   "metadata": {
    "execution": {
     "iopub.execute_input": "2022-05-11T08:55:47.228870Z",
     "iopub.status.busy": "2022-05-11T08:55:47.228053Z",
     "iopub.status.idle": "2022-05-11T09:01:13.655547Z",
     "shell.execute_reply": "2022-05-11T09:01:13.654149Z"
    },
    "papermill": {
     "duration": 326.46371,
     "end_time": "2022-05-11T09:01:13.659346",
     "exception": false,
     "start_time": "2022-05-11T08:55:47.195636",
     "status": "completed"
    },
    "tags": []
   },
   "outputs": [
    {
     "name": "stdout",
     "output_type": "stream",
     "text": [
      "30 features\n"
     ]
    },
    {
     "name": "stderr",
     "output_type": "stream",
     "text": [
      "2022-05-11 08:55:47.472874: I tensorflow/core/common_runtime/process_util.cc:146] Creating new thread pool with default inter op setting: 2. Tune using inter_op_parallelism_threads for best performance.\n",
      "2022-05-11 08:55:47.711443: I tensorflow/compiler/mlir/mlir_graph_optimization_pass.cc:185] None of the MLIR Optimization Passes are enabled (registered 2)\n"
     ]
    },
    {
     "name": "stdout",
     "output_type": "stream",
     "text": [
      "Training loss: 0.3691\n",
      " 0 [[0.37057388]\n",
      " [0.07098329]\n",
      " [0.3166237 ]\n",
      " ...\n",
      " [0.75658727]\n",
      " [0.04025546]\n",
      " [0.70558023]]\n",
      "\n",
      "CPU times: user 8min 1s, sys: 1min 30s, total: 9min 31s\n",
      "Wall time: 5min 26s\n"
     ]
    }
   ],
   "source": [
    "%%time\n",
    "# Create submission\n",
    "print(f\"{len(features)} features\")\n",
    "\n",
    "X_tr = train[features]\n",
    "y_tr = train.mutation\n",
    "\n",
    "pred_list = []\n",
    "for seed in range(1):\n",
    "    # see https://keras.io/getting_started/faq/#how-can-i-obtain-reproducible-results-using-keras-during-development\n",
    "    np.random.seed(seed)\n",
    "    random.seed(seed)\n",
    "    tf.random.set_seed(seed)\n",
    "    model, scaler = fit_model(X_tr, y_tr, run=seed)\n",
    "    pred_list.append(model.predict(scaler.transform(test[features]),\n",
    "                                                        batch_size=len(test), verbose=0))\n",
    "    print(f\"{seed:2}\", pred_list[-1])\n",
    "print()"
   ]
  },
  {
   "cell_type": "markdown",
   "id": "9742c682",
   "metadata": {
    "papermill": {
     "duration": 0.031175,
     "end_time": "2022-05-11T09:01:13.722912",
     "exception": false,
     "start_time": "2022-05-11T09:01:13.691737",
     "status": "completed"
    },
    "tags": []
   },
   "source": [
    "# Submission"
   ]
  },
  {
   "cell_type": "code",
   "execution_count": 22,
   "id": "c92d9f31",
   "metadata": {
    "execution": {
     "iopub.execute_input": "2022-05-11T09:01:13.789030Z",
     "iopub.status.busy": "2022-05-11T09:01:13.788511Z",
     "iopub.status.idle": "2022-05-11T09:01:13.851504Z",
     "shell.execute_reply": "2022-05-11T09:01:13.850590Z"
    },
    "papermill": {
     "duration": 0.098219,
     "end_time": "2022-05-11T09:01:13.853815",
     "exception": false,
     "start_time": "2022-05-11T09:01:13.755596",
     "status": "completed"
    },
    "tags": []
   },
   "outputs": [
    {
     "data": {
      "text/html": [
       "<div>\n",
       "<style scoped>\n",
       "    .dataframe tbody tr th:only-of-type {\n",
       "        vertical-align: middle;\n",
       "    }\n",
       "\n",
       "    .dataframe tbody tr th {\n",
       "        vertical-align: top;\n",
       "    }\n",
       "\n",
       "    .dataframe thead th {\n",
       "        text-align: right;\n",
       "    }\n",
       "</style>\n",
       "<table border=\"1\" class=\"dataframe\">\n",
       "  <thead>\n",
       "    <tr style=\"text-align: right;\">\n",
       "      <th></th>\n",
       "      <th>ID</th>\n",
       "      <th>mutation</th>\n",
       "    </tr>\n",
       "  </thead>\n",
       "  <tbody>\n",
       "    <tr>\n",
       "      <th>0</th>\n",
       "      <td>1</td>\n",
       "      <td>0.5</td>\n",
       "    </tr>\n",
       "    <tr>\n",
       "      <th>1</th>\n",
       "      <td>3</td>\n",
       "      <td>0.5</td>\n",
       "    </tr>\n",
       "    <tr>\n",
       "      <th>2</th>\n",
       "      <td>4</td>\n",
       "      <td>0.5</td>\n",
       "    </tr>\n",
       "    <tr>\n",
       "      <th>3</th>\n",
       "      <td>6</td>\n",
       "      <td>0.5</td>\n",
       "    </tr>\n",
       "    <tr>\n",
       "      <th>4</th>\n",
       "      <td>8</td>\n",
       "      <td>0.5</td>\n",
       "    </tr>\n",
       "  </tbody>\n",
       "</table>\n",
       "</div>"
      ],
      "text/plain": [
       "   ID  mutation\n",
       "0   1       0.5\n",
       "1   3       0.5\n",
       "2   4       0.5\n",
       "3   6       0.5\n",
       "4   8       0.5"
      ]
     },
     "execution_count": 22,
     "metadata": {},
     "output_type": "execute_result"
    }
   ],
   "source": [
    "submission = pd.read_csv('../input/devday22-competition-datascience/sample_submission.csv')\n",
    "submission.head()"
   ]
  },
  {
   "cell_type": "code",
   "execution_count": 23,
   "id": "f9b340bf",
   "metadata": {
    "execution": {
     "iopub.execute_input": "2022-05-11T09:01:13.922136Z",
     "iopub.status.busy": "2022-05-11T09:01:13.921411Z",
     "iopub.status.idle": "2022-05-11T09:01:14.162515Z",
     "shell.execute_reply": "2022-05-11T09:01:14.161465Z"
    },
    "papermill": {
     "duration": 0.278016,
     "end_time": "2022-05-11T09:01:14.165052",
     "exception": false,
     "start_time": "2022-05-11T09:01:13.887036",
     "status": "completed"
    },
    "tags": []
   },
   "outputs": [
    {
     "data": {
      "text/html": [
       "<div>\n",
       "<style scoped>\n",
       "    .dataframe tbody tr th:only-of-type {\n",
       "        vertical-align: middle;\n",
       "    }\n",
       "\n",
       "    .dataframe tbody tr th {\n",
       "        vertical-align: top;\n",
       "    }\n",
       "\n",
       "    .dataframe thead th {\n",
       "        text-align: right;\n",
       "    }\n",
       "</style>\n",
       "<table border=\"1\" class=\"dataframe\">\n",
       "  <thead>\n",
       "    <tr style=\"text-align: right;\">\n",
       "      <th></th>\n",
       "      <th>ID</th>\n",
       "      <th>mutation</th>\n",
       "    </tr>\n",
       "  </thead>\n",
       "  <tbody>\n",
       "    <tr>\n",
       "      <th>0</th>\n",
       "      <td>1</td>\n",
       "      <td>0.370574</td>\n",
       "    </tr>\n",
       "    <tr>\n",
       "      <th>1</th>\n",
       "      <td>3</td>\n",
       "      <td>0.070983</td>\n",
       "    </tr>\n",
       "    <tr>\n",
       "      <th>2</th>\n",
       "      <td>4</td>\n",
       "      <td>0.316624</td>\n",
       "    </tr>\n",
       "    <tr>\n",
       "      <th>3</th>\n",
       "      <td>6</td>\n",
       "      <td>0.333139</td>\n",
       "    </tr>\n",
       "    <tr>\n",
       "      <th>4</th>\n",
       "      <td>8</td>\n",
       "      <td>0.022045</td>\n",
       "    </tr>\n",
       "    <tr>\n",
       "      <th>...</th>\n",
       "      <td>...</td>\n",
       "      <td>...</td>\n",
       "    </tr>\n",
       "    <tr>\n",
       "      <th>119995</th>\n",
       "      <td>299983</td>\n",
       "      <td>0.088370</td>\n",
       "    </tr>\n",
       "    <tr>\n",
       "      <th>119996</th>\n",
       "      <td>299984</td>\n",
       "      <td>0.712463</td>\n",
       "    </tr>\n",
       "    <tr>\n",
       "      <th>119997</th>\n",
       "      <td>299990</td>\n",
       "      <td>0.756587</td>\n",
       "    </tr>\n",
       "    <tr>\n",
       "      <th>119998</th>\n",
       "      <td>299991</td>\n",
       "      <td>0.040255</td>\n",
       "    </tr>\n",
       "    <tr>\n",
       "      <th>119999</th>\n",
       "      <td>299992</td>\n",
       "      <td>0.705580</td>\n",
       "    </tr>\n",
       "  </tbody>\n",
       "</table>\n",
       "<p>120000 rows × 2 columns</p>\n",
       "</div>"
      ],
      "text/plain": [
       "            ID  mutation\n",
       "0            1  0.370574\n",
       "1            3  0.070983\n",
       "2            4  0.316624\n",
       "3            6  0.333139\n",
       "4            8  0.022045\n",
       "...        ...       ...\n",
       "119995  299983  0.088370\n",
       "119996  299984  0.712463\n",
       "119997  299990  0.756587\n",
       "119998  299991  0.040255\n",
       "119999  299992  0.705580\n",
       "\n",
       "[120000 rows x 2 columns]"
      ]
     },
     "execution_count": 23,
     "metadata": {},
     "output_type": "execute_result"
    }
   ],
   "source": [
    "submission['mutation'] = np.array(pred_list).mean(axis=0)\n",
    "submission.to_csv('submission.csv', index=False)\n",
    "submission"
   ]
  },
  {
   "cell_type": "code",
   "execution_count": null,
   "id": "1dd2c5b1",
   "metadata": {
    "papermill": {
     "duration": 0.03226,
     "end_time": "2022-05-11T09:01:14.230030",
     "exception": false,
     "start_time": "2022-05-11T09:01:14.197770",
     "status": "completed"
    },
    "tags": []
   },
   "outputs": [],
   "source": []
  },
  {
   "cell_type": "markdown",
   "id": "9728e5ab",
   "metadata": {
    "papermill": {
     "duration": 0.031955,
     "end_time": "2022-05-11T09:01:14.294211",
     "exception": false,
     "start_time": "2022-05-11T09:01:14.262256",
     "status": "completed"
    },
    "tags": []
   },
   "source": [
    "<center>\n",
    "    <h2 style=\"color:#2c3f51\">Thanks for reading...</h2>"
   ]
  }
 ],
 "metadata": {
  "kernelspec": {
   "display_name": "Python 3",
   "language": "python",
   "name": "python3"
  },
  "language_info": {
   "codemirror_mode": {
    "name": "ipython",
    "version": 3
   },
   "file_extension": ".py",
   "mimetype": "text/x-python",
   "name": "python",
   "nbconvert_exporter": "python",
   "pygments_lexer": "ipython3",
   "version": "3.7.12"
  },
  "papermill": {
   "default_parameters": {},
   "duration": 354.762174,
   "end_time": "2022-05-11T09:01:17.752576",
   "environment_variables": {},
   "exception": null,
   "input_path": "__notebook__.ipynb",
   "output_path": "__notebook__.ipynb",
   "parameters": {},
   "start_time": "2022-05-11T08:55:22.990402",
   "version": "2.3.4"
  }
 },
 "nbformat": 4,
 "nbformat_minor": 5
}
